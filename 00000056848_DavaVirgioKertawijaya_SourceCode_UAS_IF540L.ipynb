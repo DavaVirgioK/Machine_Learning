{
 "cells": [
  {
   "cell_type": "markdown",
   "id": "b98c601e",
   "metadata": {},
   "source": [
    "# Prediksi Harga Saham Tesla Menggunakan Support Vector Regression"
   ]
  },
  {
   "cell_type": "markdown",
   "id": "0b1bba30",
   "metadata": {},
   "source": [
    "## By Kelompok 2 :\n",
    "## Dava Virgio Kertawijaya - 00000056848 \n",
    "\n",
    "## Nigel Andrian - 00000055946\n",
    "\n",
    "## Michael Owen Kohar - 00000056755\n",
    "\n",
    "## Samuel Andrew - 00000056975"
   ]
  },
  {
   "cell_type": "markdown",
   "id": "5c1e4e47",
   "metadata": {},
   "source": [
    "IMPORT"
   ]
  },
  {
   "cell_type": "code",
   "execution_count": 1,
   "id": "87ffd2bf",
   "metadata": {},
   "outputs": [],
   "source": [
    "import pandas as pd\n",
    "import numpy as np\n",
    "from sklearn.model_selection import train_test_split\n",
    "from sklearn.preprocessing import StandardScaler\n",
    "import matplotlib.pyplot as plt\n",
    "from sklearn.preprocessing import MinMaxScaler\n",
    "from sklearn.svm import SVR\n",
    "from sklearn.metrics import accuracy_score, confusion_matrix\n",
    "from sklearn.metrics import mean_squared_error, r2_score\n",
    "from sklearn.metrics import mean_absolute_error"
   ]
  },
  {
   "cell_type": "markdown",
   "id": "bfbfe204",
   "metadata": {},
   "source": [
    "Read Dataset"
   ]
  },
  {
   "cell_type": "code",
   "execution_count": 2,
   "id": "432f0b31",
   "metadata": {},
   "outputs": [
    {
     "data": {
      "text/html": [
       "<div>\n",
       "<style scoped>\n",
       "    .dataframe tbody tr th:only-of-type {\n",
       "        vertical-align: middle;\n",
       "    }\n",
       "\n",
       "    .dataframe tbody tr th {\n",
       "        vertical-align: top;\n",
       "    }\n",
       "\n",
       "    .dataframe thead th {\n",
       "        text-align: right;\n",
       "    }\n",
       "</style>\n",
       "<table border=\"1\" class=\"dataframe\">\n",
       "  <thead>\n",
       "    <tr style=\"text-align: right;\">\n",
       "      <th></th>\n",
       "      <th>Date</th>\n",
       "      <th>Open</th>\n",
       "      <th>High</th>\n",
       "      <th>Low</th>\n",
       "      <th>Close</th>\n",
       "      <th>Volume</th>\n",
       "      <th>Adj Close</th>\n",
       "    </tr>\n",
       "  </thead>\n",
       "  <tbody>\n",
       "    <tr>\n",
       "      <th>0</th>\n",
       "      <td>6/29/2010</td>\n",
       "      <td>19.000000</td>\n",
       "      <td>25.00</td>\n",
       "      <td>17.540001</td>\n",
       "      <td>23.889999</td>\n",
       "      <td>18766300</td>\n",
       "      <td>23.889999</td>\n",
       "    </tr>\n",
       "    <tr>\n",
       "      <th>1</th>\n",
       "      <td>6/30/2010</td>\n",
       "      <td>25.790001</td>\n",
       "      <td>30.42</td>\n",
       "      <td>23.299999</td>\n",
       "      <td>23.830000</td>\n",
       "      <td>17187100</td>\n",
       "      <td>23.830000</td>\n",
       "    </tr>\n",
       "    <tr>\n",
       "      <th>2</th>\n",
       "      <td>7/1/2010</td>\n",
       "      <td>25.000000</td>\n",
       "      <td>25.92</td>\n",
       "      <td>20.270000</td>\n",
       "      <td>21.959999</td>\n",
       "      <td>8218800</td>\n",
       "      <td>21.959999</td>\n",
       "    </tr>\n",
       "    <tr>\n",
       "      <th>3</th>\n",
       "      <td>7/2/2010</td>\n",
       "      <td>23.000000</td>\n",
       "      <td>23.10</td>\n",
       "      <td>18.709999</td>\n",
       "      <td>19.200001</td>\n",
       "      <td>5139800</td>\n",
       "      <td>19.200001</td>\n",
       "    </tr>\n",
       "    <tr>\n",
       "      <th>4</th>\n",
       "      <td>7/6/2010</td>\n",
       "      <td>20.000000</td>\n",
       "      <td>20.00</td>\n",
       "      <td>15.830000</td>\n",
       "      <td>16.110001</td>\n",
       "      <td>6866900</td>\n",
       "      <td>16.110001</td>\n",
       "    </tr>\n",
       "  </tbody>\n",
       "</table>\n",
       "</div>"
      ],
      "text/plain": [
       "        Date       Open   High        Low      Close    Volume  Adj Close\n",
       "0  6/29/2010  19.000000  25.00  17.540001  23.889999  18766300  23.889999\n",
       "1  6/30/2010  25.790001  30.42  23.299999  23.830000  17187100  23.830000\n",
       "2   7/1/2010  25.000000  25.92  20.270000  21.959999   8218800  21.959999\n",
       "3   7/2/2010  23.000000  23.10  18.709999  19.200001   5139800  19.200001\n",
       "4   7/6/2010  20.000000  20.00  15.830000  16.110001   6866900  16.110001"
      ]
     },
     "execution_count": 2,
     "metadata": {},
     "output_type": "execute_result"
    }
   ],
   "source": [
    "tesla = pd.read_csv('Tesla.csv')\n",
    "tesla.head()"
   ]
  },
  {
   "cell_type": "code",
   "execution_count": 3,
   "id": "dc1fa237",
   "metadata": {},
   "outputs": [
    {
     "name": "stdout",
     "output_type": "stream",
     "text": [
      "<class 'pandas.core.frame.DataFrame'>\n",
      "RangeIndex: 1692 entries, 0 to 1691\n",
      "Data columns (total 7 columns):\n",
      " #   Column     Non-Null Count  Dtype  \n",
      "---  ------     --------------  -----  \n",
      " 0   Date       1692 non-null   object \n",
      " 1   Open       1692 non-null   float64\n",
      " 2   High       1692 non-null   float64\n",
      " 3   Low        1692 non-null   float64\n",
      " 4   Close      1692 non-null   float64\n",
      " 5   Volume     1692 non-null   int64  \n",
      " 6   Adj Close  1692 non-null   float64\n",
      "dtypes: float64(5), int64(1), object(1)\n",
      "memory usage: 92.7+ KB\n"
     ]
    }
   ],
   "source": [
    "tesla.info()"
   ]
  },
  {
   "cell_type": "code",
   "execution_count": 4,
   "id": "e3e476a1",
   "metadata": {},
   "outputs": [
    {
     "data": {
      "text/plain": [
       "Date         0\n",
       "Open         0\n",
       "High         0\n",
       "Low          0\n",
       "Close        0\n",
       "Volume       0\n",
       "Adj Close    0\n",
       "dtype: int64"
      ]
     },
     "execution_count": 4,
     "metadata": {},
     "output_type": "execute_result"
    }
   ],
   "source": [
    "#Melakukan Check terhadapa data apakah memiliki nilai null atau tidak\n",
    "tesla.isnull().sum()"
   ]
  },
  {
   "cell_type": "code",
   "execution_count": 5,
   "id": "3a05a0b2",
   "metadata": {},
   "outputs": [
    {
     "data": {
      "text/html": [
       "<div>\n",
       "<style scoped>\n",
       "    .dataframe tbody tr th:only-of-type {\n",
       "        vertical-align: middle;\n",
       "    }\n",
       "\n",
       "    .dataframe tbody tr th {\n",
       "        vertical-align: top;\n",
       "    }\n",
       "\n",
       "    .dataframe thead th {\n",
       "        text-align: right;\n",
       "    }\n",
       "</style>\n",
       "<table border=\"1\" class=\"dataframe\">\n",
       "  <thead>\n",
       "    <tr style=\"text-align: right;\">\n",
       "      <th></th>\n",
       "      <th>Date</th>\n",
       "      <th>Open</th>\n",
       "      <th>High</th>\n",
       "      <th>Low</th>\n",
       "      <th>Close</th>\n",
       "      <th>Volume</th>\n",
       "      <th>Adj Close</th>\n",
       "    </tr>\n",
       "  </thead>\n",
       "  <tbody>\n",
       "    <tr>\n",
       "      <th>0</th>\n",
       "      <td>6/29/2010</td>\n",
       "      <td>19.000000</td>\n",
       "      <td>25.00</td>\n",
       "      <td>17.540001</td>\n",
       "      <td>23.889999</td>\n",
       "      <td>18766300</td>\n",
       "      <td>23.889999</td>\n",
       "    </tr>\n",
       "    <tr>\n",
       "      <th>1</th>\n",
       "      <td>6/30/2010</td>\n",
       "      <td>25.790001</td>\n",
       "      <td>30.42</td>\n",
       "      <td>23.299999</td>\n",
       "      <td>23.830000</td>\n",
       "      <td>17187100</td>\n",
       "      <td>23.830000</td>\n",
       "    </tr>\n",
       "    <tr>\n",
       "      <th>2</th>\n",
       "      <td>7/1/2010</td>\n",
       "      <td>25.000000</td>\n",
       "      <td>25.92</td>\n",
       "      <td>20.270000</td>\n",
       "      <td>21.959999</td>\n",
       "      <td>8218800</td>\n",
       "      <td>21.959999</td>\n",
       "    </tr>\n",
       "    <tr>\n",
       "      <th>3</th>\n",
       "      <td>7/2/2010</td>\n",
       "      <td>23.000000</td>\n",
       "      <td>23.10</td>\n",
       "      <td>18.709999</td>\n",
       "      <td>19.200001</td>\n",
       "      <td>5139800</td>\n",
       "      <td>19.200001</td>\n",
       "    </tr>\n",
       "    <tr>\n",
       "      <th>4</th>\n",
       "      <td>7/6/2010</td>\n",
       "      <td>20.000000</td>\n",
       "      <td>20.00</td>\n",
       "      <td>15.830000</td>\n",
       "      <td>16.110001</td>\n",
       "      <td>6866900</td>\n",
       "      <td>16.110001</td>\n",
       "    </tr>\n",
       "  </tbody>\n",
       "</table>\n",
       "</div>"
      ],
      "text/plain": [
       "        Date       Open   High        Low      Close    Volume  Adj Close\n",
       "0  6/29/2010  19.000000  25.00  17.540001  23.889999  18766300  23.889999\n",
       "1  6/30/2010  25.790001  30.42  23.299999  23.830000  17187100  23.830000\n",
       "2   7/1/2010  25.000000  25.92  20.270000  21.959999   8218800  21.959999\n",
       "3   7/2/2010  23.000000  23.10  18.709999  19.200001   5139800  19.200001\n",
       "4   7/6/2010  20.000000  20.00  15.830000  16.110001   6866900  16.110001"
      ]
     },
     "execution_count": 5,
     "metadata": {},
     "output_type": "execute_result"
    }
   ],
   "source": [
    "tesla.head()"
   ]
  },
  {
   "cell_type": "code",
   "execution_count": 6,
   "id": "1ac42228",
   "metadata": {},
   "outputs": [
    {
     "data": {
      "image/png": "[encoded data removed]",
      "text/plain": [
       "<Figure size 1600x800 with 1 Axes>"
      ]
     },
     "metadata": {},
     "output_type": "display_data"
    }
   ],
   "source": [
    "#plotting the data\n",
    "plt.figure(figsize=(16,8))\n",
    "plt.title('Close Price History')\n",
    "plt.plot(tesla['Close'], color='red')\n",
    "plt.xlabel('Date', fontsize=18)\n",
    "plt.ylabel('Close Price USD', fontsize = 18)\n",
    "plt.show()"
   ]
  },
  {
   "cell_type": "code",
   "execution_count": 7,
   "id": "8afff144",
   "metadata": {},
   "outputs": [],
   "source": [
    "#Menentukan Variable X dan Y\n",
    "X = tesla[['Open', 'High', 'Low']].values\n",
    "y = tesla['Close'].values"
   ]
  },
  {
   "cell_type": "code",
   "execution_count": 8,
   "id": "c3153fbe",
   "metadata": {},
   "outputs": [],
   "source": [
    "#pembagian data menjadi set pelatihan (training set) dan set pengujian (testing set) menggunakan fungsi train_test_split dari modul sklearn.model_selection dalam library scikit-learn.\n",
    "from sklearn.model_selection import train_test_split\n",
    "X_train, X_test, y_train, y_test = train_test_split(X, y, test_size=0.2, random_state=42)"
   ]
  },
  {
   "cell_type": "code",
   "execution_count": 9,
   "id": "988cb86c",
   "metadata": {
    "scrolled": true
   },
   "outputs": [
    {
     "name": "stdout",
     "output_type": "stream",
     "text": [
      "[0.99923326 0.99969092 0.9996561 ]\n"
     ]
    }
   ],
   "source": [
    "# Melakukan Uji Korelasi antar variabel X Dan Y\n",
    "import numpy as np\n",
    "\n",
    "correlation_matrix = np.corrcoef(X.T, y)\n",
    "correlation_with_target = correlation_matrix[-1, :-1]\n",
    "\n",
    "print(correlation_with_target)"
   ]
  },
  {
   "cell_type": "code",
   "execution_count": 10,
   "id": "83e67705",
   "metadata": {},
   "outputs": [],
   "source": [
    "#Melakukan PreProcessing data menggunakan teknik MinMaxScaler\n",
    "scaler = MinMaxScaler()\n",
    "X_scaled = scaler.fit_transform(X)"
   ]
  },
  {
   "cell_type": "markdown",
   "id": "24346485",
   "metadata": {},
   "source": [
    "## RBF"
   ]
  },
  {
   "cell_type": "markdown",
   "id": "86921b80",
   "metadata": {},
   "source": [
    "# C = 0.1 , Epsilon = 0.1 , Gamma = 0.1 "
   ]
  },
  {
   "cell_type": "code",
   "execution_count": 11,
   "id": "7e7683be",
   "metadata": {},
   "outputs": [],
   "source": [
    "svr = SVR(kernel='rbf', C=0.1, gamma=0.1, epsilon=0.1)"
   ]
  },
  {
   "cell_type": "code",
   "execution_count": 12,
   "id": "f823472d",
   "metadata": {},
   "outputs": [],
   "source": [
    "from sklearn.model_selection import cross_val_score\n",
    "scores = cross_val_score(svr, X, y, cv=5, scoring='r2')"
   ]
  },
  {
   "cell_type": "code",
   "execution_count": 13,
   "id": "7043f727",
   "metadata": {},
   "outputs": [
    {
     "name": "stdout",
     "output_type": "stream",
     "text": [
      "R-squared scores: [-2019.38960196 -2684.90951015    -3.30158869   -62.45166163\n",
      "   -49.20031584]\n",
      "R-squared mean: -963.8505356542116\n",
      "R-squared std: 1153.079871338242\n"
     ]
    }
   ],
   "source": [
    "# Menampilkan hasil validasi silang\n",
    "print('R-squared scores:', scores)\n",
    "print('R-squared mean:', scores.mean())\n",
    "print('R-squared std:', scores.std())"
   ]
  },
  {
   "cell_type": "code",
   "execution_count": 14,
   "id": "1ecd0e79",
   "metadata": {
    "scrolled": true
   },
   "outputs": [
    {
     "data": {
      "text/plain": [
       "SVR(C=0.1, gamma=0.1)"
      ]
     },
     "execution_count": 14,
     "metadata": {},
     "output_type": "execute_result"
    }
   ],
   "source": [
    "svr.fit(X_train, y_train)"
   ]
  },
  {
   "cell_type": "code",
   "execution_count": 15,
   "id": "83927c9a",
   "metadata": {},
   "outputs": [],
   "source": [
    "y_pred = svr.predict(X_test)"
   ]
  },
  {
   "cell_type": "code",
   "execution_count": 16,
   "id": "a788484f",
   "metadata": {},
   "outputs": [
    {
     "name": "stdout",
     "output_type": "stream",
     "text": [
      "Mean Squared Error: 9778.692437946775\n",
      "Root Mean Squared Error: 98.88727136465428\n",
      "Mean Absolute Error: 89.75919412717663\n",
      "R-squared: -0.04855369558381595\n"
     ]
    }
   ],
   "source": [
    "mse = mean_squared_error(y_test, y_pred)\n",
    "rmse = np.sqrt(mse)\n",
    "mae = mean_absolute_error(y_test, y_pred)\n",
    "r2 = r2_score(y_test, y_pred)\n",
    "\n",
    "print(\"Mean Squared Error:\", mse)\n",
    "print(\"Root Mean Squared Error:\", rmse)\n",
    "print(\"Mean Absolute Error:\", mae)\n",
    "print(\"R-squared:\", r2)"
   ]
  },
  {
   "cell_type": "markdown",
   "id": "aa7cda7e",
   "metadata": {},
   "source": [
    "# C = 0.1 , Epsilon = 0.01 , Gamma = 0.1 "
   ]
  },
  {
   "cell_type": "code",
   "execution_count": 17,
   "id": "679a512c",
   "metadata": {},
   "outputs": [],
   "source": [
    "svr = SVR(kernel='rbf', C=0.1, gamma=0.1, epsilon=0.01)"
   ]
  },
  {
   "cell_type": "code",
   "execution_count": 18,
   "id": "0214c13d",
   "metadata": {},
   "outputs": [],
   "source": [
    "from sklearn.model_selection import cross_val_score\n",
    "scores = cross_val_score(svr, X, y, cv=5, scoring='r2')"
   ]
  },
  {
   "cell_type": "code",
   "execution_count": 19,
   "id": "1567aebd",
   "metadata": {},
   "outputs": [
    {
     "name": "stdout",
     "output_type": "stream",
     "text": [
      "R-squared scores: [-2020.49249401 -2686.44247439    -3.30454679   -62.47306825\n",
      "   -49.21883306]\n",
      "R-squared mean: -964.3862832997313\n",
      "R-squared std: 1153.7326265024037\n"
     ]
    }
   ],
   "source": [
    "# Menampilkan hasil validasi silang\n",
    "print('R-squared scores:', scores)\n",
    "print('R-squared mean:', scores.mean())\n",
    "print('R-squared std:', scores.std())"
   ]
  },
  {
   "cell_type": "code",
   "execution_count": 20,
   "id": "fe8fdee4",
   "metadata": {
    "scrolled": true
   },
   "outputs": [
    {
     "data": {
      "text/plain": [
       "SVR(C=0.1, epsilon=0.01, gamma=0.1)"
      ]
     },
     "execution_count": 20,
     "metadata": {},
     "output_type": "execute_result"
    }
   ],
   "source": [
    "svr.fit(X_train, y_train)"
   ]
  },
  {
   "cell_type": "code",
   "execution_count": 21,
   "id": "ebf22971",
   "metadata": {},
   "outputs": [],
   "source": [
    "y_pred = svr.predict(X_test)"
   ]
  },
  {
   "cell_type": "code",
   "execution_count": 22,
   "id": "ab89eb00",
   "metadata": {},
   "outputs": [
    {
     "name": "stdout",
     "output_type": "stream",
     "text": [
      "Mean Squared Error: 9785.311386347861\n",
      "Root Mean Squared Error: 98.92073284376669\n",
      "Mean Absolute Error: 89.76901713602618\n",
      "R-squared: -0.04926343493300611\n"
     ]
    }
   ],
   "source": [
    "mse = mean_squared_error(y_test, y_pred)\n",
    "rmse = np.sqrt(mse)\n",
    "mae = mean_absolute_error(y_test, y_pred)\n",
    "r2 = r2_score(y_test, y_pred)\n",
    "\n",
    "print(\"Mean Squared Error:\", mse)\n",
    "print(\"Root Mean Squared Error:\", rmse)\n",
    "print(\"Mean Absolute Error:\", mae)\n",
    "print(\"R-squared:\", r2)"
   ]
  },
  {
   "cell_type": "markdown",
   "id": "40cfccb2",
   "metadata": {},
   "source": [
    "# C = 0.1 , Epsilon = 0.001 , Gamma = 0.1 "
   ]
  },
  {
   "cell_type": "code",
   "execution_count": 23,
   "id": "0564778c",
   "metadata": {},
   "outputs": [],
   "source": [
    "svr = SVR(kernel='rbf', C=0.1, gamma=0.1, epsilon=0.001)"
   ]
  },
  {
   "cell_type": "code",
   "execution_count": 24,
   "id": "6c9c435b",
   "metadata": {},
   "outputs": [],
   "source": [
    "from sklearn.model_selection import cross_val_score\n",
    "scores = cross_val_score(svr, X, y, cv=5, scoring='r2')"
   ]
  },
  {
   "cell_type": "code",
   "execution_count": 25,
   "id": "b84ea5c4",
   "metadata": {},
   "outputs": [
    {
     "name": "stdout",
     "output_type": "stream",
     "text": [
      "R-squared scores: [-2020.70749192 -2686.74131275    -3.30454679   -62.47459018\n",
      "   -49.22014957]\n",
      "R-squared mean: -964.4896182442253\n",
      "R-squared std: 1153.8607497097312\n"
     ]
    }
   ],
   "source": [
    "# Menampilkan hasil validasi silang\n",
    "print('R-squared scores:', scores)\n",
    "print('R-squared mean:', scores.mean())\n",
    "print('R-squared std:', scores.std())"
   ]
  },
  {
   "cell_type": "code",
   "execution_count": 26,
   "id": "4e15aa29",
   "metadata": {
    "scrolled": true
   },
   "outputs": [
    {
     "data": {
      "text/plain": [
       "SVR(C=0.1, epsilon=0.001, gamma=0.1)"
      ]
     },
     "execution_count": 26,
     "metadata": {},
     "output_type": "execute_result"
    }
   ],
   "source": [
    "svr.fit(X_train, y_train)"
   ]
  },
  {
   "cell_type": "code",
   "execution_count": 27,
   "id": "613069fe",
   "metadata": {},
   "outputs": [],
   "source": [
    "y_pred = svr.predict(X_test)"
   ]
  },
  {
   "cell_type": "code",
   "execution_count": 28,
   "id": "95b44ab4",
   "metadata": {
    "scrolled": true
   },
   "outputs": [
    {
     "name": "stdout",
     "output_type": "stream",
     "text": [
      "Mean Squared Error: 9785.974172187969\n",
      "Root Mean Squared Error: 98.92408287261485\n",
      "Mean Absolute Error: 89.76999943691114\n",
      "R-squared: -0.049334504408443225\n"
     ]
    }
   ],
   "source": [
    "mse = mean_squared_error(y_test, y_pred)\n",
    "rmse = np.sqrt(mse)\n",
    "mae = mean_absolute_error(y_test, y_pred)\n",
    "r2 = r2_score(y_test, y_pred)\n",
    "\n",
    "print(\"Mean Squared Error:\", mse)\n",
    "print(\"Root Mean Squared Error:\", rmse)\n",
    "print(\"Mean Absolute Error:\", mae)\n",
    "print(\"R-squared:\", r2)"
   ]
  },
  {
   "cell_type": "markdown",
   "id": "806c6465",
   "metadata": {},
   "source": [
    "# C = 0.1 , Epsilon = 0.0001 , Gamma = 0.1 "
   ]
  },
  {
   "cell_type": "code",
   "execution_count": 29,
   "id": "42a912e9",
   "metadata": {},
   "outputs": [],
   "source": [
    "svr = SVR(kernel='rbf', C=0.1, gamma=0.1, epsilon=0.0001)"
   ]
  },
  {
   "cell_type": "code",
   "execution_count": 30,
   "id": "f7280aa0",
   "metadata": {},
   "outputs": [],
   "source": [
    "from sklearn.model_selection import cross_val_score\n",
    "scores = cross_val_score(svr, X, y, cv=5, scoring='r2')"
   ]
  },
  {
   "cell_type": "code",
   "execution_count": 31,
   "id": "6cb2d926",
   "metadata": {},
   "outputs": [
    {
     "name": "stdout",
     "output_type": "stream",
     "text": [
      "R-squared scores: [-2020.72899234 -2686.7711975     -3.30454679   -62.47451504\n",
      "   -49.22008458]\n",
      "R-squared mean: -964.4998672507885\n",
      "R-squared std: 1153.8736291596886\n"
     ]
    }
   ],
   "source": [
    "# Menampilkan hasil validasi silang\n",
    "print('R-squared scores:', scores)\n",
    "print('R-squared mean:', scores.mean())\n",
    "print('R-squared std:', scores.std())"
   ]
  },
  {
   "cell_type": "code",
   "execution_count": 32,
   "id": "ffe7871e",
   "metadata": {
    "scrolled": true
   },
   "outputs": [
    {
     "data": {
      "text/plain": [
       "SVR(C=0.1, epsilon=0.0001, gamma=0.1)"
      ]
     },
     "execution_count": 32,
     "metadata": {},
     "output_type": "execute_result"
    }
   ],
   "source": [
    "svr.fit(X_train, y_train)"
   ]
  },
  {
   "cell_type": "code",
   "execution_count": 33,
   "id": "9ce1407b",
   "metadata": {},
   "outputs": [],
   "source": [
    "y_pred = svr.predict(X_test)"
   ]
  },
  {
   "cell_type": "code",
   "execution_count": 34,
   "id": "8cd83ccf",
   "metadata": {
    "scrolled": true
   },
   "outputs": [
    {
     "name": "stdout",
     "output_type": "stream",
     "text": [
      "Mean Squared Error: 9786.040459681979\n",
      "Root Mean Squared Error: 98.92441791429444\n",
      "Mean Absolute Error: 89.77009766699963\n",
      "R-squared: -0.04934161231139211\n"
     ]
    }
   ],
   "source": [
    "mse = mean_squared_error(y_test, y_pred)\n",
    "rmse = np.sqrt(mse)\n",
    "mae = mean_absolute_error(y_test, y_pred)\n",
    "r2 = r2_score(y_test, y_pred)\n",
    "\n",
    "print(\"Mean Squared Error:\", mse)\n",
    "print(\"Root Mean Squared Error:\", rmse)\n",
    "print(\"Mean Absolute Error:\", mae)\n",
    "print(\"R-squared:\", r2)"
   ]
  },
  {
   "cell_type": "markdown",
   "id": "4d012c10",
   "metadata": {},
   "source": [
    "# C = 0.1 , Epsilon = 0.1 , Gamma = 0.01 "
   ]
  },
  {
   "cell_type": "code",
   "execution_count": 35,
   "id": "8ecc7002",
   "metadata": {},
   "outputs": [],
   "source": [
    "svr = SVR(kernel='rbf', C=0.1, gamma=0.01, epsilon=0.1)"
   ]
  },
  {
   "cell_type": "code",
   "execution_count": 36,
   "id": "7a938b9a",
   "metadata": {},
   "outputs": [],
   "source": [
    "from sklearn.model_selection import cross_val_score\n",
    "scores = cross_val_score(svr, X, y, cv=5, scoring='r2')"
   ]
  },
  {
   "cell_type": "code",
   "execution_count": 37,
   "id": "23ec7e4d",
   "metadata": {},
   "outputs": [
    {
     "name": "stdout",
     "output_type": "stream",
     "text": [
      "R-squared scores: [-1.77839806e+03 -2.32726553e+03 -1.74466663e+00 -4.84142674e+01\n",
      " -3.68495161e+01]\n",
      "R-squared mean: -838.5344070015005\n",
      "R-squared std: 1006.6647507196483\n"
     ]
    }
   ],
   "source": [
    "# Menampilkan hasil validasi silang\n",
    "print('R-squared scores:', scores)\n",
    "print('R-squared mean:', scores.mean())\n",
    "print('R-squared std:', scores.std())"
   ]
  },
  {
   "cell_type": "code",
   "execution_count": 38,
   "id": "6216183a",
   "metadata": {
    "scrolled": true
   },
   "outputs": [
    {
     "data": {
      "text/plain": [
       "SVR(C=0.1, gamma=0.01)"
      ]
     },
     "execution_count": 38,
     "metadata": {},
     "output_type": "execute_result"
    }
   ],
   "source": [
    "svr.fit(X_train, y_train)"
   ]
  },
  {
   "cell_type": "code",
   "execution_count": 39,
   "id": "07def8c0",
   "metadata": {},
   "outputs": [],
   "source": [
    "y_pred = svr.predict(X_test)"
   ]
  },
  {
   "cell_type": "code",
   "execution_count": 40,
   "id": "7ee23726",
   "metadata": {
    "scrolled": false
   },
   "outputs": [
    {
     "name": "stdout",
     "output_type": "stream",
     "text": [
      "Mean Squared Error: 7576.57624150215\n",
      "Root Mean Squared Error: 87.0435307274593\n",
      "Mean Absolute Error: 79.33478140357875\n",
      "R-squared: 0.18757573486300294\n"
     ]
    }
   ],
   "source": [
    "mse = mean_squared_error(y_test, y_pred)\n",
    "rmse = np.sqrt(mse)\n",
    "mae = mean_absolute_error(y_test, y_pred)\n",
    "r2 = r2_score(y_test, y_pred)\n",
    "\n",
    "print(\"Mean Squared Error:\", mse)\n",
    "print(\"Root Mean Squared Error:\", rmse)\n",
    "print(\"Mean Absolute Error:\", mae)\n",
    "print(\"R-squared:\", r2)"
   ]
  },
  {
   "cell_type": "markdown",
   "id": "b458c8ec",
   "metadata": {},
   "source": [
    "# C = 0.1 , Epsilon = 0.1 , Gamma = 0.001 "
   ]
  },
  {
   "cell_type": "code",
   "execution_count": 41,
   "id": "1e5244a7",
   "metadata": {},
   "outputs": [],
   "source": [
    "svr = SVR(kernel='rbf', C=0.1, gamma=0.001, epsilon=0.1)"
   ]
  },
  {
   "cell_type": "code",
   "execution_count": 42,
   "id": "162ffe19",
   "metadata": {},
   "outputs": [],
   "source": [
    "from sklearn.model_selection import cross_val_score\n",
    "scores = cross_val_score(svr, X, y, cv=5, scoring='r2')"
   ]
  },
  {
   "cell_type": "code",
   "execution_count": 43,
   "id": "691a7f63",
   "metadata": {},
   "outputs": [
    {
     "name": "stdout",
     "output_type": "stream",
     "text": [
      "R-squared scores: [-1.25758953e+03 -1.60899790e+03 -4.11705432e-01 -3.18808385e+01\n",
      " -2.21923125e+01]\n",
      "R-squared mean: -584.2144578488567\n",
      "R-squared std: 702.1940003715492\n"
     ]
    }
   ],
   "source": [
    "# Menampilkan hasil validasi silang\n",
    "print('R-squared scores:', scores)\n",
    "print('R-squared mean:', scores.mean())\n",
    "print('R-squared std:', scores.std())"
   ]
  },
  {
   "cell_type": "code",
   "execution_count": 44,
   "id": "1fde5712",
   "metadata": {
    "scrolled": true
   },
   "outputs": [
    {
     "data": {
      "text/plain": [
       "SVR(C=0.1, gamma=0.001)"
      ]
     },
     "execution_count": 44,
     "metadata": {},
     "output_type": "execute_result"
    }
   ],
   "source": [
    "svr.fit(X_train, y_train)"
   ]
  },
  {
   "cell_type": "code",
   "execution_count": 45,
   "id": "c34e30cd",
   "metadata": {},
   "outputs": [],
   "source": [
    "y_pred = svr.predict(X_test)"
   ]
  },
  {
   "cell_type": "code",
   "execution_count": 46,
   "id": "fae62a9f",
   "metadata": {
    "scrolled": false
   },
   "outputs": [
    {
     "name": "stdout",
     "output_type": "stream",
     "text": [
      "Mean Squared Error: 4835.13255162105\n",
      "Root Mean Squared Error: 69.5351173984847\n",
      "Mean Absolute Error: 62.25300227266322\n",
      "R-squared: 0.48153639785562374\n"
     ]
    }
   ],
   "source": [
    "mse = mean_squared_error(y_test, y_pred)\n",
    "rmse = np.sqrt(mse)\n",
    "mae = mean_absolute_error(y_test, y_pred)\n",
    "r2 = r2_score(y_test, y_pred)\n",
    "\n",
    "print(\"Mean Squared Error:\", mse)\n",
    "print(\"Root Mean Squared Error:\", rmse)\n",
    "print(\"Mean Absolute Error:\", mae)\n",
    "print(\"R-squared:\", r2)"
   ]
  },
  {
   "cell_type": "markdown",
   "id": "1ee9d49e",
   "metadata": {},
   "source": [
    "# C = 0.1 , Epsilon = 0.1 , Gamma = 0.0001 "
   ]
  },
  {
   "cell_type": "code",
   "execution_count": 47,
   "id": "1e1d3421",
   "metadata": {},
   "outputs": [],
   "source": [
    "svr = SVR(kernel='rbf', C=0.1, gamma=0.0001, epsilon=0.1)"
   ]
  },
  {
   "cell_type": "code",
   "execution_count": 48,
   "id": "3f71fe68",
   "metadata": {},
   "outputs": [],
   "source": [
    "from sklearn.model_selection import cross_val_score\n",
    "scores = cross_val_score(svr, X, y, cv=5, scoring='r2')"
   ]
  },
  {
   "cell_type": "code",
   "execution_count": 49,
   "id": "1d29a0aa",
   "metadata": {},
   "outputs": [
    {
     "name": "stdout",
     "output_type": "stream",
     "text": [
      "R-squared scores: [-8.06830614e+02 -1.01010361e+03  5.08481788e-01 -1.87234389e+01\n",
      " -1.11283482e+01]\n",
      "R-squared mean: -369.2555060137676\n",
      "R-squared std: 444.97448615727114\n"
     ]
    }
   ],
   "source": [
    "# Menampilkan hasil validasi silang\n",
    "print('R-squared scores:', scores)\n",
    "print('R-squared mean:', scores.mean())\n",
    "print('R-squared std:', scores.std())"
   ]
  },
  {
   "cell_type": "code",
   "execution_count": 50,
   "id": "37f18133",
   "metadata": {
    "scrolled": true
   },
   "outputs": [
    {
     "data": {
      "text/plain": [
       "SVR(C=0.1, gamma=0.0001)"
      ]
     },
     "execution_count": 50,
     "metadata": {},
     "output_type": "execute_result"
    }
   ],
   "source": [
    "svr.fit(X_train, y_train)"
   ]
  },
  {
   "cell_type": "code",
   "execution_count": 51,
   "id": "ae4d3151",
   "metadata": {},
   "outputs": [],
   "source": [
    "y_pred = svr.predict(X_test)"
   ]
  },
  {
   "cell_type": "code",
   "execution_count": 52,
   "id": "eea4772d",
   "metadata": {
    "scrolled": true
   },
   "outputs": [
    {
     "name": "stdout",
     "output_type": "stream",
     "text": [
      "Mean Squared Error: 2548.3977677130915\n",
      "Root Mean Squared Error: 50.4816577353903\n",
      "Mean Absolute Error: 44.61614665642437\n",
      "R-squared: 0.7267393453562616\n"
     ]
    }
   ],
   "source": [
    "mse = mean_squared_error(y_test, y_pred)\n",
    "rmse = np.sqrt(mse)\n",
    "mae = mean_absolute_error(y_test, y_pred)\n",
    "r2 = r2_score(y_test, y_pred)\n",
    "\n",
    "print(\"Mean Squared Error:\", mse)\n",
    "print(\"Root Mean Squared Error:\", rmse)\n",
    "print(\"Mean Absolute Error:\", mae)\n",
    "print(\"R-squared:\", r2)"
   ]
  },
  {
   "cell_type": "markdown",
   "id": "3c629067",
   "metadata": {},
   "source": [
    "# C = 0.1 , Epsilon = 0.01 , Gamma = 0.01 "
   ]
  },
  {
   "cell_type": "code",
   "execution_count": 53,
   "id": "e01e0168",
   "metadata": {},
   "outputs": [],
   "source": [
    "svr = SVR(kernel='rbf', C=0.1, gamma=0.01, epsilon=0.01)"
   ]
  },
  {
   "cell_type": "code",
   "execution_count": 54,
   "id": "5032f0e7",
   "metadata": {},
   "outputs": [],
   "source": [
    "from sklearn.model_selection import cross_val_score\n",
    "scores = cross_val_score(svr, X, y, cv=5, scoring='r2')"
   ]
  },
  {
   "cell_type": "code",
   "execution_count": 55,
   "id": "04843a72",
   "metadata": {},
   "outputs": [
    {
     "name": "stdout",
     "output_type": "stream",
     "text": [
      "R-squared scores: [-1.77824595e+03 -2.32705541e+03 -1.74466663e+00 -4.84316221e+01\n",
      " -3.68642979e+01]\n",
      "R-squared mean: -838.4683889066677\n",
      "R-squared std: 1006.5691213614599\n"
     ]
    }
   ],
   "source": [
    "# Menampilkan hasil validasi silang\n",
    "print('R-squared scores:', scores)\n",
    "print('R-squared mean:', scores.mean())\n",
    "print('R-squared std:', scores.std())"
   ]
  },
  {
   "cell_type": "code",
   "execution_count": 56,
   "id": "7feb6d4c",
   "metadata": {
    "scrolled": true
   },
   "outputs": [
    {
     "data": {
      "text/plain": [
       "SVR(C=0.1, epsilon=0.01, gamma=0.01)"
      ]
     },
     "execution_count": 56,
     "metadata": {},
     "output_type": "execute_result"
    }
   ],
   "source": [
    "svr.fit(X_train, y_train)"
   ]
  },
  {
   "cell_type": "code",
   "execution_count": 57,
   "id": "c92ad37e",
   "metadata": {},
   "outputs": [],
   "source": [
    "y_pred = svr.predict(X_test)"
   ]
  },
  {
   "cell_type": "code",
   "execution_count": 58,
   "id": "a81bf9fb",
   "metadata": {
    "scrolled": true
   },
   "outputs": [
    {
     "name": "stdout",
     "output_type": "stream",
     "text": [
      "Mean Squared Error: 7578.462023220843\n",
      "Root Mean Squared Error: 87.05436245944739\n",
      "Mean Absolute Error: 79.33743977652306\n",
      "R-squared: 0.18737352547736708\n"
     ]
    }
   ],
   "source": [
    "mse = mean_squared_error(y_test, y_pred)\n",
    "rmse = np.sqrt(mse)\n",
    "mae = mean_absolute_error(y_test, y_pred)\n",
    "r2 = r2_score(y_test, y_pred)\n",
    "\n",
    "print(\"Mean Squared Error:\", mse)\n",
    "print(\"Root Mean Squared Error:\", rmse)\n",
    "print(\"Mean Absolute Error:\", mae)\n",
    "print(\"R-squared:\", r2)"
   ]
  },
  {
   "cell_type": "markdown",
   "id": "7ab86056",
   "metadata": {},
   "source": [
    "# C = 0.1 , Epsilon = 0.01 , Gamma = 0.001 "
   ]
  },
  {
   "cell_type": "code",
   "execution_count": 59,
   "id": "5d50499e",
   "metadata": {},
   "outputs": [],
   "source": [
    "svr = SVR(kernel='rbf', C=0.1, gamma=0.001, epsilon=0.01)"
   ]
  },
  {
   "cell_type": "code",
   "execution_count": 60,
   "id": "249e1112",
   "metadata": {},
   "outputs": [],
   "source": [
    "from sklearn.model_selection import cross_val_score\n",
    "scores = cross_val_score(svr, X, y, cv=5, scoring='r2')"
   ]
  },
  {
   "cell_type": "code",
   "execution_count": 61,
   "id": "79ee2be0",
   "metadata": {},
   "outputs": [
    {
     "name": "stdout",
     "output_type": "stream",
     "text": [
      "R-squared scores: [-1.25689351e+03 -1.60804812e+03 -4.11705432e-01 -3.18786175e+01\n",
      " -2.21904888e+01]\n",
      "R-squared mean: -583.8844877810259\n",
      "R-squared std: 701.7839272701302\n"
     ]
    }
   ],
   "source": [
    "# Menampilkan hasil validasi silang\n",
    "print('R-squared scores:', scores)\n",
    "print('R-squared mean:', scores.mean())\n",
    "print('R-squared std:', scores.std())"
   ]
  },
  {
   "cell_type": "code",
   "execution_count": 62,
   "id": "3375008f",
   "metadata": {
    "scrolled": true
   },
   "outputs": [
    {
     "data": {
      "text/plain": [
       "SVR(C=0.1, epsilon=0.01, gamma=0.001)"
      ]
     },
     "execution_count": 62,
     "metadata": {},
     "output_type": "execute_result"
    }
   ],
   "source": [
    "svr.fit(X_train, y_train)"
   ]
  },
  {
   "cell_type": "code",
   "execution_count": 63,
   "id": "49a5db5d",
   "metadata": {},
   "outputs": [],
   "source": [
    "y_pred = svr.predict(X_test)"
   ]
  },
  {
   "cell_type": "code",
   "execution_count": 64,
   "id": "52773150",
   "metadata": {
    "scrolled": true
   },
   "outputs": [
    {
     "name": "stdout",
     "output_type": "stream",
     "text": [
      "Mean Squared Error: 4831.369105627526\n",
      "Root Mean Squared Error: 69.50805065334177\n",
      "Mean Absolute Error: 62.24669590664343\n",
      "R-squared: 0.48193994620625247\n"
     ]
    }
   ],
   "source": [
    "mse = mean_squared_error(y_test, y_pred)\n",
    "rmse = np.sqrt(mse)\n",
    "mae = mean_absolute_error(y_test, y_pred)\n",
    "r2 = r2_score(y_test, y_pred)\n",
    "\n",
    "print(\"Mean Squared Error:\", mse)\n",
    "print(\"Root Mean Squared Error:\", rmse)\n",
    "print(\"Mean Absolute Error:\", mae)\n",
    "print(\"R-squared:\", r2)"
   ]
  },
  {
   "cell_type": "markdown",
   "id": "40b20bb4",
   "metadata": {},
   "source": [
    "# C = 0.1 , Epsilon = 0.01 , Gamma = 0.0001 "
   ]
  },
  {
   "cell_type": "code",
   "execution_count": 65,
   "id": "cd2ae6e4",
   "metadata": {},
   "outputs": [],
   "source": [
    "svr = SVR(kernel='rbf', C=0.1, gamma=0.0001, epsilon=0.01)"
   ]
  },
  {
   "cell_type": "code",
   "execution_count": 66,
   "id": "818203d0",
   "metadata": {},
   "outputs": [],
   "source": [
    "from sklearn.model_selection import cross_val_score\n",
    "scores = cross_val_score(svr, X, y, cv=5, scoring='r2')"
   ]
  },
  {
   "cell_type": "code",
   "execution_count": 67,
   "id": "58b9832c",
   "metadata": {},
   "outputs": [
    {
     "name": "stdout",
     "output_type": "stream",
     "text": [
      "R-squared scores: [-8.07065229e+02 -1.01029381e+03  5.08481788e-01 -1.87435657e+01\n",
      " -1.11445000e+01]\n",
      "R-squared mean: -369.34772460692795\n",
      "R-squared std: 445.06964353515224\n"
     ]
    }
   ],
   "source": [
    "# Menampilkan hasil validasi silang\n",
    "print('R-squared scores:', scores)\n",
    "print('R-squared mean:', scores.mean())\n",
    "print('R-squared std:', scores.std())"
   ]
  },
  {
   "cell_type": "code",
   "execution_count": 68,
   "id": "1764db4e",
   "metadata": {
    "scrolled": true
   },
   "outputs": [
    {
     "data": {
      "text/plain": [
       "SVR(C=0.1, epsilon=0.01, gamma=0.0001)"
      ]
     },
     "execution_count": 68,
     "metadata": {},
     "output_type": "execute_result"
    }
   ],
   "source": [
    "svr.fit(X_train, y_train)"
   ]
  },
  {
   "cell_type": "code",
   "execution_count": 69,
   "id": "fbd4caf5",
   "metadata": {},
   "outputs": [],
   "source": [
    "y_pred = svr.predict(X_test)"
   ]
  },
  {
   "cell_type": "code",
   "execution_count": 70,
   "id": "c74e08d5",
   "metadata": {
    "scrolled": true
   },
   "outputs": [
    {
     "name": "stdout",
     "output_type": "stream",
     "text": [
      "Mean Squared Error: 2549.420564015889\n",
      "Root Mean Squared Error: 50.49178709469381\n",
      "Mean Absolute Error: 44.61553151439951\n",
      "R-squared: 0.7266296725293543\n"
     ]
    }
   ],
   "source": [
    "mse = mean_squared_error(y_test, y_pred)\n",
    "rmse = np.sqrt(mse)\n",
    "mae = mean_absolute_error(y_test, y_pred)\n",
    "r2 = r2_score(y_test, y_pred)\n",
    "\n",
    "print(\"Mean Squared Error:\", mse)\n",
    "print(\"Root Mean Squared Error:\", rmse)\n",
    "print(\"Mean Absolute Error:\", mae)\n",
    "print(\"R-squared:\", r2)"
   ]
  },
  {
   "cell_type": "markdown",
   "id": "9543e9b0",
   "metadata": {},
   "source": [
    "# C = 0.1 , Epsilon = 0.001 , Gamma = 0.01 "
   ]
  },
  {
   "cell_type": "code",
   "execution_count": 71,
   "id": "1471f663",
   "metadata": {},
   "outputs": [],
   "source": [
    "svr = SVR(kernel='rbf', C=0.1, gamma=0.01, epsilon=0.001)"
   ]
  },
  {
   "cell_type": "code",
   "execution_count": 72,
   "id": "2b133b24",
   "metadata": {},
   "outputs": [],
   "source": [
    "from sklearn.model_selection import cross_val_score\n",
    "scores = cross_val_score(svr, X, y, cv=5, scoring='r2')"
   ]
  },
  {
   "cell_type": "code",
   "execution_count": 73,
   "id": "ba83614f",
   "metadata": {},
   "outputs": [
    {
     "name": "stdout",
     "output_type": "stream",
     "text": [
      "R-squared scores: [-1.77844727e+03 -2.32733351e+03 -1.74466663e+00 -4.84298775e+01\n",
      " -3.68628119e+01]\n",
      "R-squared mean: -838.5636266878976\n",
      "R-squared std: 1006.6894787517568\n"
     ]
    }
   ],
   "source": [
    "# Menampilkan hasil validasi silang\n",
    "print('R-squared scores:', scores)\n",
    "print('R-squared mean:', scores.mean())\n",
    "print('R-squared std:', scores.std())"
   ]
  },
  {
   "cell_type": "code",
   "execution_count": 74,
   "id": "ff6470a4",
   "metadata": {
    "scrolled": true
   },
   "outputs": [
    {
     "data": {
      "text/plain": [
       "SVR(C=0.1, epsilon=0.001, gamma=0.01)"
      ]
     },
     "execution_count": 74,
     "metadata": {},
     "output_type": "execute_result"
    }
   ],
   "source": [
    "svr.fit(X_train, y_train)"
   ]
  },
  {
   "cell_type": "code",
   "execution_count": 75,
   "id": "aec10302",
   "metadata": {},
   "outputs": [],
   "source": [
    "y_pred = svr.predict(X_test)"
   ]
  },
  {
   "cell_type": "code",
   "execution_count": 76,
   "id": "cb6e6bb3",
   "metadata": {
    "scrolled": true
   },
   "outputs": [
    {
     "name": "stdout",
     "output_type": "stream",
     "text": [
      "Mean Squared Error: 7579.00104709407\n",
      "Root Mean Squared Error: 87.05745830825794\n",
      "Mean Absolute Error: 79.3382666407961\n",
      "R-squared: 0.1873157268015352\n"
     ]
    }
   ],
   "source": [
    "mse = mean_squared_error(y_test, y_pred)\n",
    "rmse = np.sqrt(mse)\n",
    "mae = mean_absolute_error(y_test, y_pred)\n",
    "r2 = r2_score(y_test, y_pred)\n",
    "\n",
    "print(\"Mean Squared Error:\", mse)\n",
    "print(\"Root Mean Squared Error:\", rmse)\n",
    "print(\"Mean Absolute Error:\", mae)\n",
    "print(\"R-squared:\", r2)"
   ]
  },
  {
   "cell_type": "markdown",
   "id": "14beb727",
   "metadata": {},
   "source": [
    "# C = 0.1 , Epsilon = 0.001 , Gamma = 0.001 "
   ]
  },
  {
   "cell_type": "code",
   "execution_count": 77,
   "id": "7878dcd1",
   "metadata": {},
   "outputs": [],
   "source": [
    "svr = SVR(kernel='rbf', C=0.1, gamma=0.001, epsilon=0.001)"
   ]
  },
  {
   "cell_type": "code",
   "execution_count": 78,
   "id": "85ef516d",
   "metadata": {},
   "outputs": [],
   "source": [
    "from sklearn.model_selection import cross_val_score\n",
    "scores = cross_val_score(svr, X, y, cv=5, scoring='r2')"
   ]
  },
  {
   "cell_type": "code",
   "execution_count": 79,
   "id": "b9ec0bad",
   "metadata": {},
   "outputs": [
    {
     "name": "stdout",
     "output_type": "stream",
     "text": [
      "R-squared scores: [-1.25689351e+03 -1.60804812e+03 -4.11705432e-01 -3.18772736e+01\n",
      " -2.21893853e+01]\n",
      "R-squared mean: -583.8839982863731\n",
      "R-squared std: 701.7843153415885\n"
     ]
    }
   ],
   "source": [
    "# Menampilkan hasil validasi silang\n",
    "print('R-squared scores:', scores)\n",
    "print('R-squared mean:', scores.mean())\n",
    "print('R-squared std:', scores.std())"
   ]
  },
  {
   "cell_type": "code",
   "execution_count": 80,
   "id": "97d47a13",
   "metadata": {
    "scrolled": true
   },
   "outputs": [
    {
     "data": {
      "text/plain": [
       "SVR(C=0.1, epsilon=0.001, gamma=0.001)"
      ]
     },
     "execution_count": 80,
     "metadata": {},
     "output_type": "execute_result"
    }
   ],
   "source": [
    "svr.fit(X_train, y_train)"
   ]
  },
  {
   "cell_type": "code",
   "execution_count": 81,
   "id": "6e572f2d",
   "metadata": {},
   "outputs": [],
   "source": [
    "y_pred = svr.predict(X_test)"
   ]
  },
  {
   "cell_type": "code",
   "execution_count": 82,
   "id": "d7bb1fd2",
   "metadata": {
    "scrolled": true
   },
   "outputs": [
    {
     "name": "stdout",
     "output_type": "stream",
     "text": [
      "Mean Squared Error: 4831.369105627526\n",
      "Root Mean Squared Error: 69.50805065334177\n",
      "Mean Absolute Error: 62.24669590664343\n",
      "R-squared: 0.48193994620625247\n"
     ]
    }
   ],
   "source": [
    "mse = mean_squared_error(y_test, y_pred)\n",
    "rmse = np.sqrt(mse)\n",
    "mae = mean_absolute_error(y_test, y_pred)\n",
    "r2 = r2_score(y_test, y_pred)\n",
    "\n",
    "print(\"Mean Squared Error:\", mse)\n",
    "print(\"Root Mean Squared Error:\", rmse)\n",
    "print(\"Mean Absolute Error:\", mae)\n",
    "print(\"R-squared:\", r2)"
   ]
  },
  {
   "cell_type": "markdown",
   "id": "14d955a6",
   "metadata": {},
   "source": [
    "# C = 0.1 , Epsilon = 0.001 , Gamma = 0.0001 "
   ]
  },
  {
   "cell_type": "code",
   "execution_count": 83,
   "id": "4e7013de",
   "metadata": {},
   "outputs": [],
   "source": [
    "svr = SVR(kernel='rbf', C=0.1, gamma=0.0001, epsilon=0.001)"
   ]
  },
  {
   "cell_type": "code",
   "execution_count": 84,
   "id": "b7efc785",
   "metadata": {},
   "outputs": [],
   "source": [
    "from sklearn.model_selection import cross_val_score\n",
    "scores = cross_val_score(svr, X, y, cv=5, scoring='r2')"
   ]
  },
  {
   "cell_type": "code",
   "execution_count": 85,
   "id": "169bd192",
   "metadata": {},
   "outputs": [
    {
     "name": "stdout",
     "output_type": "stream",
     "text": [
      "R-squared scores: [-8.07000839e+02 -1.01011058e+03  5.08481788e-01 -1.87439764e+01\n",
      " -1.11445000e+01]\n",
      "R-squared mean: -369.29828193619113\n",
      "R-squared std: 445.0041393084436\n"
     ]
    }
   ],
   "source": [
    "# Menampilkan hasil validasi silang\n",
    "print('R-squared scores:', scores)\n",
    "print('R-squared mean:', scores.mean())\n",
    "print('R-squared std:', scores.std())"
   ]
  },
  {
   "cell_type": "code",
   "execution_count": 86,
   "id": "3ab40eed",
   "metadata": {
    "scrolled": true
   },
   "outputs": [
    {
     "data": {
      "text/plain": [
       "SVR(C=0.1, epsilon=0.001, gamma=0.0001)"
      ]
     },
     "execution_count": 86,
     "metadata": {},
     "output_type": "execute_result"
    }
   ],
   "source": [
    "svr.fit(X_train, y_train)"
   ]
  },
  {
   "cell_type": "code",
   "execution_count": 87,
   "id": "0c6a74e9",
   "metadata": {},
   "outputs": [],
   "source": [
    "y_pred = svr.predict(X_test)"
   ]
  },
  {
   "cell_type": "code",
   "execution_count": 88,
   "id": "aa8ddf03",
   "metadata": {
    "scrolled": true
   },
   "outputs": [
    {
     "name": "stdout",
     "output_type": "stream",
     "text": [
      "Mean Squared Error: 2549.4205640158875\n",
      "Root Mean Squared Error: 50.4917870946938\n",
      "Mean Absolute Error: 44.6155315143995\n",
      "R-squared: 0.7266296725293544\n"
     ]
    }
   ],
   "source": [
    "mse = mean_squared_error(y_test, y_pred)\n",
    "rmse = np.sqrt(mse)\n",
    "mae = mean_absolute_error(y_test, y_pred)\n",
    "r2 = r2_score(y_test, y_pred)\n",
    "\n",
    "print(\"Mean Squared Error:\", mse)\n",
    "print(\"Root Mean Squared Error:\", rmse)\n",
    "print(\"Mean Absolute Error:\", mae)\n",
    "print(\"R-squared:\", r2)"
   ]
  },
  {
   "cell_type": "markdown",
   "id": "1936f5c6",
   "metadata": {},
   "source": [
    "# C = 0.1 , Epsilon = 0.0001 , Gamma = 0.01 "
   ]
  },
  {
   "cell_type": "code",
   "execution_count": 89,
   "id": "1b63b59d",
   "metadata": {},
   "outputs": [],
   "source": [
    "svr = SVR(kernel='rbf', C=0.1, gamma=0.01, epsilon=0.0001)"
   ]
  },
  {
   "cell_type": "code",
   "execution_count": 90,
   "id": "03f0f7ae",
   "metadata": {},
   "outputs": [],
   "source": [
    "from sklearn.model_selection import cross_val_score\n",
    "scores = cross_val_score(svr, X, y, cv=5, scoring='r2')"
   ]
  },
  {
   "cell_type": "code",
   "execution_count": 91,
   "id": "cea7d709",
   "metadata": {},
   "outputs": [
    {
     "name": "stdout",
     "output_type": "stream",
     "text": [
      "R-squared scores: [-1.77846740e+03 -2.32736132e+03 -1.74466749e+00 -4.84298775e+01\n",
      " -3.68628119e+01]\n",
      "R-squared mean: -838.5732155576504\n",
      "R-squared std: 1006.7014636833238\n"
     ]
    }
   ],
   "source": [
    "# Menampilkan hasil validasi silang\n",
    "print('R-squared scores:', scores)\n",
    "print('R-squared mean:', scores.mean())\n",
    "print('R-squared std:', scores.std())"
   ]
  },
  {
   "cell_type": "code",
   "execution_count": 92,
   "id": "b85a0303",
   "metadata": {
    "scrolled": true
   },
   "outputs": [
    {
     "data": {
      "text/plain": [
       "SVR(C=0.1, epsilon=0.0001, gamma=0.01)"
      ]
     },
     "execution_count": 92,
     "metadata": {},
     "output_type": "execute_result"
    }
   ],
   "source": [
    "svr.fit(X_train, y_train)"
   ]
  },
  {
   "cell_type": "code",
   "execution_count": 93,
   "id": "4cbfca46",
   "metadata": {},
   "outputs": [],
   "source": [
    "y_pred = svr.predict(X_test)"
   ]
  },
  {
   "cell_type": "code",
   "execution_count": 94,
   "id": "8450bc20",
   "metadata": {
    "scrolled": true
   },
   "outputs": [
    {
     "name": "stdout",
     "output_type": "stream",
     "text": [
      "Mean Squared Error: 7579.054950984987\n",
      "Root Mean Squared Error: 87.0577678957196\n",
      "Mean Absolute Error: 79.33834894168106\n",
      "R-squared: 0.18730994677272395\n"
     ]
    }
   ],
   "source": [
    "mse = mean_squared_error(y_test, y_pred)\n",
    "rmse = np.sqrt(mse)\n",
    "mae = mean_absolute_error(y_test, y_pred)\n",
    "r2 = r2_score(y_test, y_pred)\n",
    "\n",
    "print(\"Mean Squared Error:\", mse)\n",
    "print(\"Root Mean Squared Error:\", rmse)\n",
    "print(\"Mean Absolute Error:\", mae)\n",
    "print(\"R-squared:\", r2)"
   ]
  },
  {
   "cell_type": "markdown",
   "id": "f9ccc6db",
   "metadata": {},
   "source": [
    "# C = 0.1 , Epsilon = 0.0001 , Gamma = 0.001 "
   ]
  },
  {
   "cell_type": "code",
   "execution_count": 95,
   "id": "933e0dac",
   "metadata": {},
   "outputs": [],
   "source": [
    "svr = SVR(kernel='rbf', C=0.1, gamma=0.001, epsilon=0.0001)"
   ]
  },
  {
   "cell_type": "code",
   "execution_count": 96,
   "id": "320f75bf",
   "metadata": {},
   "outputs": [],
   "source": [
    "from sklearn.model_selection import cross_val_score\n",
    "scores = cross_val_score(svr, X, y, cv=5, scoring='r2')"
   ]
  },
  {
   "cell_type": "code",
   "execution_count": 97,
   "id": "291151d0",
   "metadata": {},
   "outputs": [
    {
     "name": "stdout",
     "output_type": "stream",
     "text": [
      "R-squared scores: [-1.25689351e+03 -1.60804812e+03 -4.11705432e-01 -3.18772736e+01\n",
      " -2.21893853e+01]\n",
      "R-squared mean: -583.8839982863727\n",
      "R-squared std: 701.7843153415881\n"
     ]
    }
   ],
   "source": [
    "# Menampilkan hasil validasi silang\n",
    "print('R-squared scores:', scores)\n",
    "print('R-squared mean:', scores.mean())\n",
    "print('R-squared std:', scores.std())"
   ]
  },
  {
   "cell_type": "code",
   "execution_count": 98,
   "id": "95ebf583",
   "metadata": {
    "scrolled": true
   },
   "outputs": [
    {
     "data": {
      "text/plain": [
       "SVR(C=0.1, epsilon=0.0001, gamma=0.001)"
      ]
     },
     "execution_count": 98,
     "metadata": {},
     "output_type": "execute_result"
    }
   ],
   "source": [
    "svr.fit(X_train, y_train)"
   ]
  },
  {
   "cell_type": "code",
   "execution_count": 99,
   "id": "bf5d495a",
   "metadata": {},
   "outputs": [],
   "source": [
    "y_pred = svr.predict(X_test)"
   ]
  },
  {
   "cell_type": "code",
   "execution_count": 100,
   "id": "99bfc60e",
   "metadata": {
    "scrolled": true
   },
   "outputs": [
    {
     "name": "stdout",
     "output_type": "stream",
     "text": [
      "Mean Squared Error: 4831.369105627526\n",
      "Root Mean Squared Error: 69.50805065334177\n",
      "Mean Absolute Error: 62.24669590664343\n",
      "R-squared: 0.48193994620625247\n"
     ]
    }
   ],
   "source": [
    "mse = mean_squared_error(y_test, y_pred)\n",
    "rmse = np.sqrt(mse)\n",
    "mae = mean_absolute_error(y_test, y_pred)\n",
    "r2 = r2_score(y_test, y_pred)\n",
    "\n",
    "print(\"Mean Squared Error:\", mse)\n",
    "print(\"Root Mean Squared Error:\", rmse)\n",
    "print(\"Mean Absolute Error:\", mae)\n",
    "print(\"R-squared:\", r2)"
   ]
  },
  {
   "cell_type": "markdown",
   "id": "9855e73b",
   "metadata": {},
   "source": [
    "# C = 0.1 , Epsilon = 0.0001 , Gamma = 0.0001 "
   ]
  },
  {
   "cell_type": "code",
   "execution_count": 101,
   "id": "b3905472",
   "metadata": {},
   "outputs": [],
   "source": [
    "svr = SVR(kernel='rbf', C=0.1, gamma=0.0001, epsilon=0.0001)"
   ]
  },
  {
   "cell_type": "code",
   "execution_count": 102,
   "id": "55bb1b99",
   "metadata": {},
   "outputs": [],
   "source": [
    "from sklearn.model_selection import cross_val_score\n",
    "scores = cross_val_score(svr, X, y, cv=5, scoring='r2')"
   ]
  },
  {
   "cell_type": "code",
   "execution_count": 103,
   "id": "61bb7f9d",
   "metadata": {},
   "outputs": [
    {
     "name": "stdout",
     "output_type": "stream",
     "text": [
      "R-squared scores: [-8.07000839e+02 -1.01009225e+03  5.08481788e-01 -1.87439764e+01\n",
      " -1.11445000e+01]\n",
      "R-squared mean: -369.2946174458489\n",
      "R-squared std: 444.9988624192593\n"
     ]
    }
   ],
   "source": [
    "# Menampilkan hasil validasi silang\n",
    "print('R-squared scores:', scores)\n",
    "print('R-squared mean:', scores.mean())\n",
    "print('R-squared std:', scores.std())"
   ]
  },
  {
   "cell_type": "code",
   "execution_count": 104,
   "id": "3fe06be4",
   "metadata": {
    "scrolled": true
   },
   "outputs": [
    {
     "data": {
      "text/plain": [
       "SVR(C=0.1, epsilon=0.0001, gamma=0.0001)"
      ]
     },
     "execution_count": 104,
     "metadata": {},
     "output_type": "execute_result"
    }
   ],
   "source": [
    "svr.fit(X_train, y_train)"
   ]
  },
  {
   "cell_type": "code",
   "execution_count": 105,
   "id": "39cfd4a2",
   "metadata": {},
   "outputs": [],
   "source": [
    "y_pred = svr.predict(X_test)"
   ]
  },
  {
   "cell_type": "code",
   "execution_count": 106,
   "id": "f5153fd3",
   "metadata": {
    "scrolled": true
   },
   "outputs": [
    {
     "name": "stdout",
     "output_type": "stream",
     "text": [
      "Mean Squared Error: 2549.420564015889\n",
      "Root Mean Squared Error: 50.49178709469381\n",
      "Mean Absolute Error: 44.61553151439951\n",
      "R-squared: 0.7266296725293542\n"
     ]
    }
   ],
   "source": [
    "mse = mean_squared_error(y_test, y_pred)\n",
    "rmse = np.sqrt(mse)\n",
    "mae = mean_absolute_error(y_test, y_pred)\n",
    "r2 = r2_score(y_test, y_pred)\n",
    "\n",
    "print(\"Mean Squared Error:\", mse)\n",
    "print(\"Root Mean Squared Error:\", rmse)\n",
    "print(\"Mean Absolute Error:\", mae)\n",
    "print(\"R-squared:\", r2)"
   ]
  },
  {
   "cell_type": "markdown",
   "id": "9458881f",
   "metadata": {},
   "source": [
    "# C = 1 , Epsilon = 0.1 , Gamma = 0.1 "
   ]
  },
  {
   "cell_type": "code",
   "execution_count": 107,
   "id": "25e1b32f",
   "metadata": {},
   "outputs": [],
   "source": [
    "svr = SVR(kernel='rbf', C=1, gamma=0.1, epsilon=0.1)"
   ]
  },
  {
   "cell_type": "code",
   "execution_count": 108,
   "id": "a1581ac2",
   "metadata": {},
   "outputs": [],
   "source": [
    "from sklearn.model_selection import cross_val_score\n",
    "scores = cross_val_score(svr, X, y, cv=5, scoring='r2')"
   ]
  },
  {
   "cell_type": "code",
   "execution_count": 109,
   "id": "e844a3e8",
   "metadata": {},
   "outputs": [
    {
     "name": "stdout",
     "output_type": "stream",
     "text": [
      "R-squared scores: [-1.41733308e+03 -1.71915004e+03 -2.73084636e-02 -2.16727341e+01\n",
      " -1.44619579e+01]\n",
      "R-squared mean: -634.5290223389621\n",
      "R-squared std: 768.3558222571648\n"
     ]
    }
   ],
   "source": [
    "# Menampilkan hasil validasi silang\n",
    "print('R-squared scores:', scores)\n",
    "print('R-squared mean:', scores.mean())\n",
    "print('R-squared std:', scores.std())"
   ]
  },
  {
   "cell_type": "code",
   "execution_count": 110,
   "id": "b8e80bb9",
   "metadata": {
    "scrolled": true
   },
   "outputs": [
    {
     "data": {
      "text/plain": [
       "SVR(C=1, gamma=0.1)"
      ]
     },
     "execution_count": 110,
     "metadata": {},
     "output_type": "execute_result"
    }
   ],
   "source": [
    "svr.fit(X_train, y_train)"
   ]
  },
  {
   "cell_type": "code",
   "execution_count": 111,
   "id": "b81c7dc9",
   "metadata": {},
   "outputs": [],
   "source": [
    "y_pred = svr.predict(X_test)"
   ]
  },
  {
   "cell_type": "code",
   "execution_count": 112,
   "id": "cf404e48",
   "metadata": {
    "scrolled": true
   },
   "outputs": [
    {
     "name": "stdout",
     "output_type": "stream",
     "text": [
      "Mean Squared Error: 3115.928738412167\n",
      "Root Mean Squared Error: 55.82050464132483\n",
      "Mean Absolute Error: 46.65183009000264\n",
      "R-squared: 0.6658838986325751\n"
     ]
    }
   ],
   "source": [
    "mse = mean_squared_error(y_test, y_pred)\n",
    "rmse = np.sqrt(mse)\n",
    "mae = mean_absolute_error(y_test, y_pred)\n",
    "r2 = r2_score(y_test, y_pred)\n",
    "\n",
    "print(\"Mean Squared Error:\", mse)\n",
    "print(\"Root Mean Squared Error:\", rmse)\n",
    "print(\"Mean Absolute Error:\", mae)\n",
    "print(\"R-squared:\", r2)"
   ]
  },
  {
   "cell_type": "markdown",
   "id": "684acf50",
   "metadata": {},
   "source": [
    "# C = 1 , Epsilon = 0.01 , Gamma = 0.1 "
   ]
  },
  {
   "cell_type": "code",
   "execution_count": 113,
   "id": "676ed221",
   "metadata": {},
   "outputs": [],
   "source": [
    "svr = SVR(kernel='rbf', C=1, gamma=0.1, epsilon=0.01)"
   ]
  },
  {
   "cell_type": "code",
   "execution_count": 114,
   "id": "3ed356ef",
   "metadata": {},
   "outputs": [],
   "source": [
    "from sklearn.model_selection import cross_val_score\n",
    "scores = cross_val_score(svr, X, y, cv=5, scoring='r2')"
   ]
  },
  {
   "cell_type": "code",
   "execution_count": 115,
   "id": "1102eea0",
   "metadata": {},
   "outputs": [
    {
     "name": "stdout",
     "output_type": "stream",
     "text": [
      "R-squared scores: [-1.41811134e+03 -1.72020837e+03 -2.76727668e-02 -2.16767049e+01\n",
      " -1.44651427e+01]\n",
      "R-squared mean: -634.8978462234617\n",
      "R-squared std: 768.8119873003299\n"
     ]
    }
   ],
   "source": [
    "# Menampilkan hasil validasi silang\n",
    "print('R-squared scores:', scores)\n",
    "print('R-squared mean:', scores.mean())\n",
    "print('R-squared std:', scores.std())"
   ]
  },
  {
   "cell_type": "code",
   "execution_count": 116,
   "id": "212c1369",
   "metadata": {
    "scrolled": true
   },
   "outputs": [
    {
     "data": {
      "text/plain": [
       "SVR(C=1, epsilon=0.01, gamma=0.1)"
      ]
     },
     "execution_count": 116,
     "metadata": {},
     "output_type": "execute_result"
    }
   ],
   "source": [
    "svr.fit(X_train, y_train)"
   ]
  },
  {
   "cell_type": "code",
   "execution_count": 117,
   "id": "202e8783",
   "metadata": {},
   "outputs": [],
   "source": [
    "y_pred = svr.predict(X_test)"
   ]
  },
  {
   "cell_type": "code",
   "execution_count": 118,
   "id": "57560d96",
   "metadata": {
    "scrolled": true
   },
   "outputs": [
    {
     "name": "stdout",
     "output_type": "stream",
     "text": [
      "Mean Squared Error: 3115.866782113317\n",
      "Root Mean Squared Error: 55.81994967852727\n",
      "Mean Absolute Error: 46.64615551051413\n",
      "R-squared: 0.6658905421083299\n"
     ]
    }
   ],
   "source": [
    "mse = mean_squared_error(y_test, y_pred)\n",
    "rmse = np.sqrt(mse)\n",
    "mae = mean_absolute_error(y_test, y_pred)\n",
    "r2 = r2_score(y_test, y_pred)\n",
    "\n",
    "print(\"Mean Squared Error:\", mse)\n",
    "print(\"Root Mean Squared Error:\", rmse)\n",
    "print(\"Mean Absolute Error:\", mae)\n",
    "print(\"R-squared:\", r2)"
   ]
  },
  {
   "cell_type": "markdown",
   "id": "082f80bf",
   "metadata": {},
   "source": [
    "# C = 1 , Epsilon = 0.001 , Gamma = 0.1 "
   ]
  },
  {
   "cell_type": "code",
   "execution_count": 119,
   "id": "b320c4da",
   "metadata": {},
   "outputs": [],
   "source": [
    "svr = SVR(kernel='rbf', C=1, gamma=0.1, epsilon=0.001)"
   ]
  },
  {
   "cell_type": "code",
   "execution_count": 120,
   "id": "6af7c529",
   "metadata": {},
   "outputs": [],
   "source": [
    "from sklearn.model_selection import cross_val_score\n",
    "scores = cross_val_score(svr, X, y, cv=5, scoring='r2')"
   ]
  },
  {
   "cell_type": "code",
   "execution_count": 121,
   "id": "78ec2358",
   "metadata": {},
   "outputs": [
    {
     "name": "stdout",
     "output_type": "stream",
     "text": [
      "R-squared scores: [-1.41816993e+03 -1.72028806e+03 -2.76655942e-02 -2.16760102e+01\n",
      " -1.44645855e+01]\n",
      "R-squared mean: -634.9252503944748\n",
      "R-squared std: 768.8466254775408\n"
     ]
    }
   ],
   "source": [
    "# Menampilkan hasil validasi silang\n",
    "print('R-squared scores:', scores)\n",
    "print('R-squared mean:', scores.mean())\n",
    "print('R-squared std:', scores.std())"
   ]
  },
  {
   "cell_type": "code",
   "execution_count": 122,
   "id": "cea1cdfc",
   "metadata": {
    "scrolled": true
   },
   "outputs": [
    {
     "data": {
      "text/plain": [
       "SVR(C=1, epsilon=0.001, gamma=0.1)"
      ]
     },
     "execution_count": 122,
     "metadata": {},
     "output_type": "execute_result"
    }
   ],
   "source": [
    "svr.fit(X_train, y_train)"
   ]
  },
  {
   "cell_type": "code",
   "execution_count": 123,
   "id": "2ef2ec56",
   "metadata": {},
   "outputs": [],
   "source": [
    "y_pred = svr.predict(X_test)"
   ]
  },
  {
   "cell_type": "code",
   "execution_count": 124,
   "id": "b6e37b34",
   "metadata": {
    "scrolled": true
   },
   "outputs": [
    {
     "name": "stdout",
     "output_type": "stream",
     "text": [
      "Mean Squared Error: 3115.8998650388207\n",
      "Root Mean Squared Error: 55.82024601377909\n",
      "Mean Absolute Error: 46.647433054246534\n",
      "R-squared: 0.6658869946786486\n"
     ]
    }
   ],
   "source": [
    "mse = mean_squared_error(y_test, y_pred)\n",
    "rmse = np.sqrt(mse)\n",
    "mae = mean_absolute_error(y_test, y_pred)\n",
    "r2 = r2_score(y_test, y_pred)\n",
    "\n",
    "print(\"Mean Squared Error:\", mse)\n",
    "print(\"Root Mean Squared Error:\", rmse)\n",
    "print(\"Mean Absolute Error:\", mae)\n",
    "print(\"R-squared:\", r2)"
   ]
  },
  {
   "cell_type": "markdown",
   "id": "4414b9f3",
   "metadata": {},
   "source": [
    "# C = 1 , Epsilon = 0.0001 , Gamma = 0.1 "
   ]
  },
  {
   "cell_type": "code",
   "execution_count": 125,
   "id": "71279261",
   "metadata": {},
   "outputs": [],
   "source": [
    "svr = SVR(kernel='rbf', C=1, gamma=0.1, epsilon=0.0001)"
   ]
  },
  {
   "cell_type": "code",
   "execution_count": 126,
   "id": "96c07483",
   "metadata": {},
   "outputs": [],
   "source": [
    "from sklearn.model_selection import cross_val_score\n",
    "scores = cross_val_score(svr, X, y, cv=5, scoring='r2')"
   ]
  },
  {
   "cell_type": "code",
   "execution_count": 127,
   "id": "85e44d1b",
   "metadata": {},
   "outputs": [
    {
     "name": "stdout",
     "output_type": "stream",
     "text": [
      "R-squared scores: [-1.41817699e+03 -1.72029766e+03 -2.76649113e-02 -2.16759750e+01\n",
      " -1.44645572e+01]\n",
      "R-squared mean: -634.9285709196472\n",
      "R-squared std: 768.8507863454987\n"
     ]
    }
   ],
   "source": [
    "# Menampilkan hasil validasi silang\n",
    "print('R-squared scores:', scores)\n",
    "print('R-squared mean:', scores.mean())\n",
    "print('R-squared std:', scores.std())"
   ]
  },
  {
   "cell_type": "code",
   "execution_count": 128,
   "id": "95cf3ccb",
   "metadata": {
    "scrolled": true
   },
   "outputs": [
    {
     "data": {
      "text/plain": [
       "SVR(C=1, epsilon=0.0001, gamma=0.1)"
      ]
     },
     "execution_count": 128,
     "metadata": {},
     "output_type": "execute_result"
    }
   ],
   "source": [
    "svr.fit(X_train, y_train)"
   ]
  },
  {
   "cell_type": "code",
   "execution_count": 129,
   "id": "4f4535c7",
   "metadata": {},
   "outputs": [],
   "source": [
    "y_pred = svr.predict(X_test)"
   ]
  },
  {
   "cell_type": "code",
   "execution_count": 130,
   "id": "51614238",
   "metadata": {
    "scrolled": true
   },
   "outputs": [
    {
     "name": "stdout",
     "output_type": "stream",
     "text": [
      "Mean Squared Error: 3115.903160822177\n",
      "Root Mean Squared Error: 55.82027553516891\n",
      "Mean Absolute Error: 46.647562404384026\n",
      "R-squared: 0.6658866412770215\n"
     ]
    }
   ],
   "source": [
    "mse = mean_squared_error(y_test, y_pred)\n",
    "rmse = np.sqrt(mse)\n",
    "mae = mean_absolute_error(y_test, y_pred)\n",
    "r2 = r2_score(y_test, y_pred)\n",
    "\n",
    "print(\"Mean Squared Error:\", mse)\n",
    "print(\"Root Mean Squared Error:\", rmse)\n",
    "print(\"Mean Absolute Error:\", mae)\n",
    "print(\"R-squared:\", r2)"
   ]
  },
  {
   "cell_type": "markdown",
   "id": "4b85dd70",
   "metadata": {},
   "source": [
    "# C = 1 , Epsilon = 0.1 , Gamma = 0.01 "
   ]
  },
  {
   "cell_type": "code",
   "execution_count": 131,
   "id": "4c238556",
   "metadata": {},
   "outputs": [],
   "source": [
    "svr = SVR(kernel='rbf', C=1, gamma=0.01, epsilon=0.1)"
   ]
  },
  {
   "cell_type": "code",
   "execution_count": 132,
   "id": "65034ec2",
   "metadata": {},
   "outputs": [],
   "source": [
    "from sklearn.model_selection import cross_val_score\n",
    "scores = cross_val_score(svr, X, y, cv=5, scoring='r2')"
   ]
  },
  {
   "cell_type": "code",
   "execution_count": 133,
   "id": "100cfc7f",
   "metadata": {},
   "outputs": [
    {
     "name": "stdout",
     "output_type": "stream",
     "text": [
      "R-squared scores: [-5.87905151e+02 -3.46730887e+02  1.54369791e-01 -5.16348684e+00\n",
      " -2.25047693e-01]\n",
      "R-squared mean: -187.97404061348686\n",
      "R-squared std: 240.50376758602658\n"
     ]
    }
   ],
   "source": [
    "# Menampilkan hasil validasi silang\n",
    "print('R-squared scores:', scores)\n",
    "print('R-squared mean:', scores.mean())\n",
    "print('R-squared std:', scores.std())"
   ]
  },
  {
   "cell_type": "code",
   "execution_count": 134,
   "id": "fcee880c",
   "metadata": {
    "scrolled": true
   },
   "outputs": [
    {
     "data": {
      "text/plain": [
       "SVR(C=1, gamma=0.01)"
      ]
     },
     "execution_count": 134,
     "metadata": {},
     "output_type": "execute_result"
    }
   ],
   "source": [
    "svr.fit(X_train, y_train)"
   ]
  },
  {
   "cell_type": "code",
   "execution_count": 135,
   "id": "4f061a3d",
   "metadata": {},
   "outputs": [],
   "source": [
    "y_pred = svr.predict(X_test)"
   ]
  },
  {
   "cell_type": "code",
   "execution_count": 136,
   "id": "7e8c5b96",
   "metadata": {
    "scrolled": true
   },
   "outputs": [
    {
     "name": "stdout",
     "output_type": "stream",
     "text": [
      "Mean Squared Error: 741.1941038872787\n",
      "Root Mean Squared Error: 27.224880236417548\n",
      "Mean Absolute Error: 13.982137785079981\n",
      "R-squared: 0.920522930677312\n"
     ]
    }
   ],
   "source": [
    "mse = mean_squared_error(y_test, y_pred)\n",
    "rmse = np.sqrt(mse)\n",
    "mae = mean_absolute_error(y_test, y_pred)\n",
    "r2 = r2_score(y_test, y_pred)\n",
    "\n",
    "print(\"Mean Squared Error:\", mse)\n",
    "print(\"Root Mean Squared Error:\", rmse)\n",
    "print(\"Mean Absolute Error:\", mae)\n",
    "print(\"R-squared:\", r2)"
   ]
  },
  {
   "cell_type": "markdown",
   "id": "03d48cf2",
   "metadata": {},
   "source": [
    "# C = 1 , Epsilon = 0.1 , Gamma = 0.001 "
   ]
  },
  {
   "cell_type": "code",
   "execution_count": 137,
   "id": "9841d453",
   "metadata": {},
   "outputs": [],
   "source": [
    "svr = SVR(kernel='rbf', C=1, gamma=0.001, epsilon=0.1)"
   ]
  },
  {
   "cell_type": "code",
   "execution_count": 138,
   "id": "22202762",
   "metadata": {},
   "outputs": [],
   "source": [
    "from sklearn.model_selection import cross_val_score\n",
    "scores = cross_val_score(svr, X, y, cv=5, scoring='r2')"
   ]
  },
  {
   "cell_type": "code",
   "execution_count": 139,
   "id": "75a8f8b2",
   "metadata": {},
   "outputs": [
    {
     "name": "stdout",
     "output_type": "stream",
     "text": [
      "R-squared scores: [-49.89318586  -8.32141376   0.66116131  -1.78139135   0.77185111]\n",
      "R-squared mean: -11.71259571217712\n",
      "R-squared std: 19.374507347142913\n"
     ]
    }
   ],
   "source": [
    "# Menampilkan hasil validasi silang\n",
    "print('R-squared scores:', scores)\n",
    "print('R-squared mean:', scores.mean())\n",
    "print('R-squared std:', scores.std())"
   ]
  },
  {
   "cell_type": "code",
   "execution_count": 140,
   "id": "bf1a6463",
   "metadata": {
    "scrolled": true
   },
   "outputs": [
    {
     "data": {
      "text/plain": [
       "SVR(C=1, gamma=0.001)"
      ]
     },
     "execution_count": 140,
     "metadata": {},
     "output_type": "execute_result"
    }
   ],
   "source": [
    "svr.fit(X_train, y_train)"
   ]
  },
  {
   "cell_type": "code",
   "execution_count": 141,
   "id": "cabc6e93",
   "metadata": {},
   "outputs": [],
   "source": [
    "y_pred = svr.predict(X_test)"
   ]
  },
  {
   "cell_type": "code",
   "execution_count": 142,
   "id": "2379ca1f",
   "metadata": {
    "scrolled": false
   },
   "outputs": [
    {
     "name": "stdout",
     "output_type": "stream",
     "text": [
      "Mean Squared Error: 182.76205399167696\n",
      "Root Mean Squared Error: 13.518951660231535\n",
      "Mean Absolute Error: 5.723994619769737\n",
      "R-squared: 0.9804027145406672\n"
     ]
    }
   ],
   "source": [
    "mse = mean_squared_error(y_test, y_pred)\n",
    "rmse = np.sqrt(mse)\n",
    "mae = mean_absolute_error(y_test, y_pred)\n",
    "r2 = r2_score(y_test, y_pred)\n",
    "\n",
    "print(\"Mean Squared Error:\", mse)\n",
    "print(\"Root Mean Squared Error:\", rmse)\n",
    "print(\"Mean Absolute Error:\", mae)\n",
    "print(\"R-squared:\", r2)"
   ]
  },
  {
   "cell_type": "markdown",
   "id": "bb01c3bc",
   "metadata": {},
   "source": [
    "# C = 1 , Epsilon = 0.1 , Gamma = 0.0001 "
   ]
  },
  {
   "cell_type": "code",
   "execution_count": 143,
   "id": "30900acd",
   "metadata": {},
   "outputs": [],
   "source": [
    "svr = SVR(kernel='rbf', C=1, gamma=0.0001, epsilon=0.1)"
   ]
  },
  {
   "cell_type": "code",
   "execution_count": 144,
   "id": "71b96e95",
   "metadata": {},
   "outputs": [],
   "source": [
    "from sklearn.model_selection import cross_val_score\n",
    "scores = cross_val_score(svr, X, y, cv=5, scoring='r2')"
   ]
  },
  {
   "cell_type": "code",
   "execution_count": 145,
   "id": "91be64e7",
   "metadata": {},
   "outputs": [
    {
     "name": "stdout",
     "output_type": "stream",
     "text": [
      "R-squared scores: [-4.05330594  0.70054172  0.93959371  0.09328926  0.92864236]\n",
      "R-squared mean: -0.27824777539987283\n",
      "R-squared std: 1.9124253980903627\n"
     ]
    }
   ],
   "source": [
    "# Menampilkan hasil validasi silang\n",
    "print('R-squared scores:', scores)\n",
    "print('R-squared mean:', scores.mean())\n",
    "print('R-squared std:', scores.std())"
   ]
  },
  {
   "cell_type": "code",
   "execution_count": 146,
   "id": "e2efcbc3",
   "metadata": {
    "scrolled": true
   },
   "outputs": [
    {
     "data": {
      "text/plain": [
       "SVR(C=1, gamma=0.0001)"
      ]
     },
     "execution_count": 146,
     "metadata": {},
     "output_type": "execute_result"
    }
   ],
   "source": [
    "svr.fit(X_train, y_train)"
   ]
  },
  {
   "cell_type": "code",
   "execution_count": 147,
   "id": "333d1955",
   "metadata": {},
   "outputs": [],
   "source": [
    "y_pred = svr.predict(X_test)"
   ]
  },
  {
   "cell_type": "code",
   "execution_count": 148,
   "id": "ed9f6c28",
   "metadata": {
    "scrolled": true
   },
   "outputs": [
    {
     "name": "stdout",
     "output_type": "stream",
     "text": [
      "Mean Squared Error: 38.83615023859141\n",
      "Root Mean Squared Error: 6.231865710891997\n",
      "Mean Absolute Error: 3.1107459272957545\n",
      "R-squared: 0.9958356611465864\n"
     ]
    }
   ],
   "source": [
    "mse = mean_squared_error(y_test, y_pred)\n",
    "rmse = np.sqrt(mse)\n",
    "mae = mean_absolute_error(y_test, y_pred)\n",
    "r2 = r2_score(y_test, y_pred)\n",
    "\n",
    "print(\"Mean Squared Error:\", mse)\n",
    "print(\"Root Mean Squared Error:\", rmse)\n",
    "print(\"Mean Absolute Error:\", mae)\n",
    "print(\"R-squared:\", r2)"
   ]
  },
  {
   "cell_type": "markdown",
   "id": "3e6b4567",
   "metadata": {},
   "source": [
    "# C = 1 , Epsilon = 0.01 , Gamma = 0.01 "
   ]
  },
  {
   "cell_type": "code",
   "execution_count": 149,
   "id": "d5c928d0",
   "metadata": {},
   "outputs": [],
   "source": [
    "svr = SVR(kernel='rbf', C=1, gamma=0.01, epsilon=0.01)"
   ]
  },
  {
   "cell_type": "code",
   "execution_count": 150,
   "id": "52564d6f",
   "metadata": {},
   "outputs": [],
   "source": [
    "from sklearn.model_selection import cross_val_score\n",
    "scores = cross_val_score(svr, X, y, cv=5, scoring='r2')"
   ]
  },
  {
   "cell_type": "code",
   "execution_count": 151,
   "id": "3669b033",
   "metadata": {},
   "outputs": [
    {
     "name": "stdout",
     "output_type": "stream",
     "text": [
      "R-squared scores: [-5.87901944e+02 -3.46439910e+02  1.53713609e-01 -5.16461121e+00\n",
      " -2.24893379e-01]\n",
      "R-squared mean: -187.91552888608052\n",
      "R-squared std: 240.46406129242695\n"
     ]
    }
   ],
   "source": [
    "# Menampilkan hasil validasi silang\n",
    "print('R-squared scores:', scores)\n",
    "print('R-squared mean:', scores.mean())\n",
    "print('R-squared std:', scores.std())"
   ]
  },
  {
   "cell_type": "code",
   "execution_count": 152,
   "id": "1053d947",
   "metadata": {
    "scrolled": true
   },
   "outputs": [
    {
     "data": {
      "text/plain": [
       "SVR(C=1, epsilon=0.01, gamma=0.01)"
      ]
     },
     "execution_count": 152,
     "metadata": {},
     "output_type": "execute_result"
    }
   ],
   "source": [
    "svr.fit(X_train, y_train)"
   ]
  },
  {
   "cell_type": "code",
   "execution_count": 153,
   "id": "4a2c9001",
   "metadata": {},
   "outputs": [],
   "source": [
    "y_pred = svr.predict(X_test)"
   ]
  },
  {
   "cell_type": "code",
   "execution_count": 154,
   "id": "3e6424f3",
   "metadata": {
    "scrolled": true
   },
   "outputs": [
    {
     "name": "stdout",
     "output_type": "stream",
     "text": [
      "Mean Squared Error: 741.4947150211656\n",
      "Root Mean Squared Error: 27.230400566667498\n",
      "Mean Absolute Error: 13.985534221284254\n",
      "R-squared: 0.9204906966217498\n"
     ]
    }
   ],
   "source": [
    "mse = mean_squared_error(y_test, y_pred)\n",
    "rmse = np.sqrt(mse)\n",
    "mae = mean_absolute_error(y_test, y_pred)\n",
    "r2 = r2_score(y_test, y_pred)\n",
    "\n",
    "print(\"Mean Squared Error:\", mse)\n",
    "print(\"Root Mean Squared Error:\", rmse)\n",
    "print(\"Mean Absolute Error:\", mae)\n",
    "print(\"R-squared:\", r2)"
   ]
  },
  {
   "cell_type": "markdown",
   "id": "2f996ae4",
   "metadata": {},
   "source": [
    "# C = 1 , Epsilon = 0.01 , Gamma = 0.001 "
   ]
  },
  {
   "cell_type": "code",
   "execution_count": 155,
   "id": "d665b540",
   "metadata": {},
   "outputs": [],
   "source": [
    "svr = SVR(kernel='rbf', C=1, gamma=0.001, epsilon=0.01)"
   ]
  },
  {
   "cell_type": "code",
   "execution_count": 156,
   "id": "c77b8e26",
   "metadata": {},
   "outputs": [],
   "source": [
    "from sklearn.model_selection import cross_val_score\n",
    "scores = cross_val_score(svr, X, y, cv=5, scoring='r2')"
   ]
  },
  {
   "cell_type": "code",
   "execution_count": 157,
   "id": "cacf7df2",
   "metadata": {},
   "outputs": [
    {
     "name": "stdout",
     "output_type": "stream",
     "text": [
      "R-squared scores: [-49.56682404  -8.23790372   0.66087281  -1.78264359   0.77162529]\n",
      "R-squared mean: -11.630974651614945\n",
      "R-squared std: 19.248611500647957\n"
     ]
    }
   ],
   "source": [
    "# Menampilkan hasil validasi silang\n",
    "print('R-squared scores:', scores)\n",
    "print('R-squared mean:', scores.mean())\n",
    "print('R-squared std:', scores.std())"
   ]
  },
  {
   "cell_type": "code",
   "execution_count": 158,
   "id": "89b412ef",
   "metadata": {
    "scrolled": true
   },
   "outputs": [
    {
     "data": {
      "text/plain": [
       "SVR(C=1, epsilon=0.01, gamma=0.001)"
      ]
     },
     "execution_count": 158,
     "metadata": {},
     "output_type": "execute_result"
    }
   ],
   "source": [
    "svr.fit(X_train, y_train)"
   ]
  },
  {
   "cell_type": "code",
   "execution_count": 159,
   "id": "f2c30023",
   "metadata": {},
   "outputs": [],
   "source": [
    "y_pred = svr.predict(X_test)"
   ]
  },
  {
   "cell_type": "code",
   "execution_count": 160,
   "id": "d0b8638b",
   "metadata": {
    "scrolled": true
   },
   "outputs": [
    {
     "name": "stdout",
     "output_type": "stream",
     "text": [
      "Mean Squared Error: 182.82516642013775\n",
      "Root Mean Squared Error: 13.521285679259119\n",
      "Mean Absolute Error: 5.727556473525405\n",
      "R-squared: 0.9803959470949662\n"
     ]
    }
   ],
   "source": [
    "mse = mean_squared_error(y_test, y_pred)\n",
    "rmse = np.sqrt(mse)\n",
    "mae = mean_absolute_error(y_test, y_pred)\n",
    "r2 = r2_score(y_test, y_pred)\n",
    "\n",
    "print(\"Mean Squared Error:\", mse)\n",
    "print(\"Root Mean Squared Error:\", rmse)\n",
    "print(\"Mean Absolute Error:\", mae)\n",
    "print(\"R-squared:\", r2)"
   ]
  },
  {
   "cell_type": "markdown",
   "id": "2bbaf158",
   "metadata": {},
   "source": [
    "# C = 1 , Epsilon = 0.01 , Gamma = 0.0001 "
   ]
  },
  {
   "cell_type": "code",
   "execution_count": 161,
   "id": "b8af1bb3",
   "metadata": {},
   "outputs": [],
   "source": [
    "svr = SVR(kernel='rbf', C=1, gamma=0.0001, epsilon=0.01)"
   ]
  },
  {
   "cell_type": "code",
   "execution_count": 162,
   "id": "b021ec4b",
   "metadata": {},
   "outputs": [],
   "source": [
    "from sklearn.model_selection import cross_val_score\n",
    "scores = cross_val_score(svr, X, y, cv=5, scoring='r2')"
   ]
  },
  {
   "cell_type": "code",
   "execution_count": 163,
   "id": "fc2a2b45",
   "metadata": {},
   "outputs": [
    {
     "name": "stdout",
     "output_type": "stream",
     "text": [
      "R-squared scores: [-4.02765314  0.70032896  0.93921423  0.09026825  0.92837553]\n",
      "R-squared mean: -0.2738932322759272\n",
      "R-squared std: 1.902078642232936\n"
     ]
    }
   ],
   "source": [
    "# Menampilkan hasil validasi silang\n",
    "print('R-squared scores:', scores)\n",
    "print('R-squared mean:', scores.mean())\n",
    "print('R-squared std:', scores.std())"
   ]
  },
  {
   "cell_type": "code",
   "execution_count": 164,
   "id": "18abb842",
   "metadata": {
    "scrolled": true
   },
   "outputs": [
    {
     "data": {
      "text/plain": [
       "SVR(C=1, epsilon=0.01, gamma=0.0001)"
      ]
     },
     "execution_count": 164,
     "metadata": {},
     "output_type": "execute_result"
    }
   ],
   "source": [
    "svr.fit(X_train, y_train)"
   ]
  },
  {
   "cell_type": "code",
   "execution_count": 165,
   "id": "569af77e",
   "metadata": {},
   "outputs": [],
   "source": [
    "y_pred = svr.predict(X_test)"
   ]
  },
  {
   "cell_type": "code",
   "execution_count": 166,
   "id": "040d08b5",
   "metadata": {
    "scrolled": true
   },
   "outputs": [
    {
     "name": "stdout",
     "output_type": "stream",
     "text": [
      "Mean Squared Error: 38.82746626320429\n",
      "Root Mean Squared Error: 6.231168932327569\n",
      "Mean Absolute Error: 3.1085548511122325\n",
      "R-squared: 0.9958365923155073\n"
     ]
    }
   ],
   "source": [
    "mse = mean_squared_error(y_test, y_pred)\n",
    "rmse = np.sqrt(mse)\n",
    "mae = mean_absolute_error(y_test, y_pred)\n",
    "r2 = r2_score(y_test, y_pred)\n",
    "\n",
    "print(\"Mean Squared Error:\", mse)\n",
    "print(\"Root Mean Squared Error:\", rmse)\n",
    "print(\"Mean Absolute Error:\", mae)\n",
    "print(\"R-squared:\", r2)"
   ]
  },
  {
   "cell_type": "markdown",
   "id": "d0b4256e",
   "metadata": {},
   "source": [
    "# C = 1 , Epsilon = 0.001 , Gamma = 0.01 "
   ]
  },
  {
   "cell_type": "code",
   "execution_count": 167,
   "id": "4c1554c8",
   "metadata": {},
   "outputs": [],
   "source": [
    "svr = SVR(kernel='rbf', C=1, gamma=0.01, epsilon=0.001)"
   ]
  },
  {
   "cell_type": "code",
   "execution_count": 168,
   "id": "6e02a078",
   "metadata": {},
   "outputs": [],
   "source": [
    "from sklearn.model_selection import cross_val_score\n",
    "scores = cross_val_score(svr, X, y, cv=5, scoring='r2')"
   ]
  },
  {
   "cell_type": "code",
   "execution_count": 169,
   "id": "ed7ef427",
   "metadata": {},
   "outputs": [
    {
     "name": "stdout",
     "output_type": "stream",
     "text": [
      "R-squared scores: [-5.87831399e+02 -3.46315047e+02  1.53672156e-01 -5.16499701e+00\n",
      " -2.24752948e-01]\n",
      "R-squared mean: -187.87650473334833\n",
      "R-squared std: 240.4240885065563\n"
     ]
    }
   ],
   "source": [
    "# Menampilkan hasil validasi silang\n",
    "print('R-squared scores:', scores)\n",
    "print('R-squared mean:', scores.mean())\n",
    "print('R-squared std:', scores.std())"
   ]
  },
  {
   "cell_type": "code",
   "execution_count": 170,
   "id": "83554d63",
   "metadata": {
    "scrolled": true
   },
   "outputs": [
    {
     "data": {
      "text/plain": [
       "SVR(C=1, epsilon=0.001, gamma=0.01)"
      ]
     },
     "execution_count": 170,
     "metadata": {},
     "output_type": "execute_result"
    }
   ],
   "source": [
    "svr.fit(X_train, y_train)"
   ]
  },
  {
   "cell_type": "code",
   "execution_count": 171,
   "id": "9cd838a9",
   "metadata": {},
   "outputs": [],
   "source": [
    "y_pred = svr.predict(X_test)"
   ]
  },
  {
   "cell_type": "markdown",
   "id": "066f0e52",
   "metadata": {},
   "source": [
    "# C = 1 , Epsilon = 0.001 , Gamma = 0.01 "
   ]
  },
  {
   "cell_type": "code",
   "execution_count": 172,
   "id": "ddf0b94e",
   "metadata": {},
   "outputs": [],
   "source": [
    "svr = SVR(kernel='rbf', C=1, gamma=0.01, epsilon=0.001)"
   ]
  },
  {
   "cell_type": "code",
   "execution_count": 173,
   "id": "f94ef499",
   "metadata": {},
   "outputs": [],
   "source": [
    "from sklearn.model_selection import cross_val_score\n",
    "scores = cross_val_score(svr, X, y, cv=5, scoring='r2')"
   ]
  },
  {
   "cell_type": "code",
   "execution_count": 174,
   "id": "91df4f5a",
   "metadata": {},
   "outputs": [
    {
     "name": "stdout",
     "output_type": "stream",
     "text": [
      "R-squared scores: [-5.87831399e+02 -3.46315047e+02  1.53672156e-01 -5.16499701e+00\n",
      " -2.24752948e-01]\n",
      "R-squared mean: -187.87650473334833\n",
      "R-squared std: 240.4240885065563\n"
     ]
    }
   ],
   "source": [
    "# Menampilkan hasil validasi silang\n",
    "print('R-squared scores:', scores)\n",
    "print('R-squared mean:', scores.mean())\n",
    "print('R-squared std:', scores.std())"
   ]
  },
  {
   "cell_type": "code",
   "execution_count": 175,
   "id": "19eed0d4",
   "metadata": {
    "scrolled": true
   },
   "outputs": [
    {
     "data": {
      "text/plain": [
       "SVR(C=1, epsilon=0.001, gamma=0.01)"
      ]
     },
     "execution_count": 175,
     "metadata": {},
     "output_type": "execute_result"
    }
   ],
   "source": [
    "svr.fit(X_train, y_train)"
   ]
  },
  {
   "cell_type": "code",
   "execution_count": 176,
   "id": "7aa89df6",
   "metadata": {},
   "outputs": [],
   "source": [
    "y_pred = svr.predict(X_test)"
   ]
  },
  {
   "cell_type": "code",
   "execution_count": 177,
   "id": "3d37e170",
   "metadata": {
    "scrolled": false
   },
   "outputs": [
    {
     "name": "stdout",
     "output_type": "stream",
     "text": [
      "Mean Squared Error: 741.4545832722796\n",
      "Root Mean Squared Error: 27.229663664325336\n",
      "Mean Absolute Error: 13.985415832557267\n",
      "R-squared: 0.9204949998855932\n"
     ]
    }
   ],
   "source": [
    "mse = mean_squared_error(y_test, y_pred)\n",
    "rmse = np.sqrt(mse)\n",
    "mae = mean_absolute_error(y_test, y_pred)\n",
    "r2 = r2_score(y_test, y_pred)\n",
    "\n",
    "print(\"Mean Squared Error:\", mse)\n",
    "print(\"Root Mean Squared Error:\", rmse)\n",
    "print(\"Mean Absolute Error:\", mae)\n",
    "print(\"R-squared:\", r2)"
   ]
  },
  {
   "cell_type": "code",
   "execution_count": 178,
   "id": "5cd5ef7c",
   "metadata": {
    "scrolled": true
   },
   "outputs": [
    {
     "name": "stdout",
     "output_type": "stream",
     "text": [
      "Mean Squared Error: 741.4545832722796\n",
      "Root Mean Squared Error: 27.229663664325336\n",
      "Mean Absolute Error: 13.985415832557267\n",
      "R-squared: 0.9204949998855932\n"
     ]
    }
   ],
   "source": [
    "mse = mean_squared_error(y_test, y_pred)\n",
    "rmse = np.sqrt(mse)\n",
    "mae = mean_absolute_error(y_test, y_pred)\n",
    "r2 = r2_score(y_test, y_pred)\n",
    "\n",
    "print(\"Mean Squared Error:\", mse)\n",
    "print(\"Root Mean Squared Error:\", rmse)\n",
    "print(\"Mean Absolute Error:\", mae)\n",
    "print(\"R-squared:\", r2)"
   ]
  },
  {
   "cell_type": "markdown",
   "id": "d5f52772",
   "metadata": {},
   "source": [
    "# C = 1 , Epsilon = 0.001 , Gamma = 0.001 "
   ]
  },
  {
   "cell_type": "code",
   "execution_count": 179,
   "id": "3d55280b",
   "metadata": {},
   "outputs": [],
   "source": [
    "svr = SVR(kernel='rbf', C=1, gamma=0.001, epsilon=0.001)"
   ]
  },
  {
   "cell_type": "code",
   "execution_count": 180,
   "id": "e91c702c",
   "metadata": {},
   "outputs": [],
   "source": [
    "from sklearn.model_selection import cross_val_score\n",
    "scores = cross_val_score(svr, X, y, cv=5, scoring='r2')"
   ]
  },
  {
   "cell_type": "code",
   "execution_count": 181,
   "id": "df014e7e",
   "metadata": {},
   "outputs": [
    {
     "name": "stdout",
     "output_type": "stream",
     "text": [
      "R-squared scores: [-49.56715056  -8.25617835   0.66094925  -1.78233726   0.77155577]\n",
      "R-squared mean: -11.634632229647334\n",
      "R-squared std: 19.248129457175207\n"
     ]
    }
   ],
   "source": [
    "# Menampilkan hasil validasi silang\n",
    "print('R-squared scores:', scores)\n",
    "print('R-squared mean:', scores.mean())\n",
    "print('R-squared std:', scores.std())"
   ]
  },
  {
   "cell_type": "code",
   "execution_count": 182,
   "id": "feae0de4",
   "metadata": {
    "scrolled": true
   },
   "outputs": [
    {
     "data": {
      "text/plain": [
       "SVR(C=1, epsilon=0.001, gamma=0.001)"
      ]
     },
     "execution_count": 182,
     "metadata": {},
     "output_type": "execute_result"
    }
   ],
   "source": [
    "svr.fit(X_train, y_train)"
   ]
  },
  {
   "cell_type": "code",
   "execution_count": 183,
   "id": "4f4945de",
   "metadata": {},
   "outputs": [],
   "source": [
    "y_pred = svr.predict(X_test)"
   ]
  },
  {
   "cell_type": "code",
   "execution_count": 184,
   "id": "5b6a21b9",
   "metadata": {
    "scrolled": false
   },
   "outputs": [
    {
     "name": "stdout",
     "output_type": "stream",
     "text": [
      "Mean Squared Error: 182.79947123645465\n",
      "Root Mean Squared Error: 13.520335470558955\n",
      "Mean Absolute Error: 5.727464023723256\n",
      "R-squared: 0.9803987023487981\n"
     ]
    }
   ],
   "source": [
    "mse = mean_squared_error(y_test, y_pred)\n",
    "rmse = np.sqrt(mse)\n",
    "mae = mean_absolute_error(y_test, y_pred)\n",
    "r2 = r2_score(y_test, y_pred)\n",
    "\n",
    "print(\"Mean Squared Error:\", mse)\n",
    "print(\"Root Mean Squared Error:\", rmse)\n",
    "print(\"Mean Absolute Error:\", mae)\n",
    "print(\"R-squared:\", r2)"
   ]
  },
  {
   "cell_type": "markdown",
   "id": "5be1c3c4",
   "metadata": {},
   "source": [
    "# C = 1 , Epsilon = 0.001 , Gamma = 0.0001 "
   ]
  },
  {
   "cell_type": "code",
   "execution_count": 185,
   "id": "8d5b9092",
   "metadata": {},
   "outputs": [],
   "source": [
    "svr = SVR(kernel='rbf', C=1, gamma=0.0001, epsilon=0.001)"
   ]
  },
  {
   "cell_type": "code",
   "execution_count": 186,
   "id": "6027c495",
   "metadata": {},
   "outputs": [],
   "source": [
    "from sklearn.model_selection import cross_val_score\n",
    "scores = cross_val_score(svr, X, y, cv=5, scoring='r2')"
   ]
  },
  {
   "cell_type": "code",
   "execution_count": 187,
   "id": "70e88996",
   "metadata": {},
   "outputs": [
    {
     "name": "stdout",
     "output_type": "stream",
     "text": [
      "R-squared scores: [-4.03600803  0.70024465  0.93913663  0.09072434  0.92832333]\n",
      "R-squared mean: -0.27551581601006764\n",
      "R-squared std: 1.9053687960508894\n"
     ]
    }
   ],
   "source": [
    "# Menampilkan hasil validasi silang\n",
    "print('R-squared scores:', scores)\n",
    "print('R-squared mean:', scores.mean())\n",
    "print('R-squared std:', scores.std())"
   ]
  },
  {
   "cell_type": "code",
   "execution_count": 188,
   "id": "fbde6837",
   "metadata": {
    "scrolled": true
   },
   "outputs": [
    {
     "data": {
      "text/plain": [
       "SVR(C=1, epsilon=0.001, gamma=0.0001)"
      ]
     },
     "execution_count": 188,
     "metadata": {},
     "output_type": "execute_result"
    }
   ],
   "source": [
    "svr.fit(X_train, y_train)"
   ]
  },
  {
   "cell_type": "code",
   "execution_count": 189,
   "id": "f520f78e",
   "metadata": {},
   "outputs": [],
   "source": [
    "y_pred = svr.predict(X_test)"
   ]
  },
  {
   "cell_type": "code",
   "execution_count": 190,
   "id": "a38eb10c",
   "metadata": {
    "scrolled": false
   },
   "outputs": [
    {
     "name": "stdout",
     "output_type": "stream",
     "text": [
      "Mean Squared Error: 38.90382732650471\n",
      "Root Mean Squared Error: 6.237293269239848\n",
      "Mean Absolute Error: 3.109878984468498\n",
      "R-squared: 0.9958284042396852\n"
     ]
    }
   ],
   "source": [
    "mse = mean_squared_error(y_test, y_pred)\n",
    "rmse = np.sqrt(mse)\n",
    "mae = mean_absolute_error(y_test, y_pred)\n",
    "r2 = r2_score(y_test, y_pred)\n",
    "\n",
    "print(\"Mean Squared Error:\", mse)\n",
    "print(\"Root Mean Squared Error:\", rmse)\n",
    "print(\"Mean Absolute Error:\", mae)\n",
    "print(\"R-squared:\", r2)"
   ]
  },
  {
   "cell_type": "markdown",
   "id": "ba85012d",
   "metadata": {},
   "source": [
    "# C = 1 , Epsilon = 0.0001 , Gamma = 0.01 "
   ]
  },
  {
   "cell_type": "code",
   "execution_count": 191,
   "id": "30128976",
   "metadata": {},
   "outputs": [],
   "source": [
    "svr = SVR(kernel='rbf', C=1, gamma=0.01, epsilon=0.0001)"
   ]
  },
  {
   "cell_type": "code",
   "execution_count": 192,
   "id": "26a1b252",
   "metadata": {},
   "outputs": [],
   "source": [
    "from sklearn.model_selection import cross_val_score\n",
    "scores = cross_val_score(svr, X, y, cv=5, scoring='r2')"
   ]
  },
  {
   "cell_type": "code",
   "execution_count": 193,
   "id": "d4b38f6a",
   "metadata": {},
   "outputs": [
    {
     "name": "stdout",
     "output_type": "stream",
     "text": [
      "R-squared scores: [-5.87825678e+02 -3.46302438e+02  1.53670161e-01 -5.16508113e+00\n",
      " -2.24748602e-01]\n",
      "R-squared mean: -187.87285517434216\n",
      "R-squared std: 240.42051083438238\n"
     ]
    }
   ],
   "source": [
    "# Menampilkan hasil validasi silang\n",
    "print('R-squared scores:', scores)\n",
    "print('R-squared mean:', scores.mean())\n",
    "print('R-squared std:', scores.std())"
   ]
  },
  {
   "cell_type": "code",
   "execution_count": 194,
   "id": "8b7e4814",
   "metadata": {
    "scrolled": true
   },
   "outputs": [
    {
     "data": {
      "text/plain": [
       "SVR(C=1, epsilon=0.0001, gamma=0.01)"
      ]
     },
     "execution_count": 194,
     "metadata": {},
     "output_type": "execute_result"
    }
   ],
   "source": [
    "svr.fit(X_train, y_train)"
   ]
  },
  {
   "cell_type": "code",
   "execution_count": 195,
   "id": "d5a406cd",
   "metadata": {},
   "outputs": [],
   "source": [
    "y_pred = svr.predict(X_test)"
   ]
  },
  {
   "cell_type": "code",
   "execution_count": 196,
   "id": "b0bcb3ff",
   "metadata": {
    "scrolled": false
   },
   "outputs": [
    {
     "name": "stdout",
     "output_type": "stream",
     "text": [
      "Mean Squared Error: 741.4407753078965\n",
      "Root Mean Squared Error: 27.229410116781754\n",
      "Mean Absolute Error: 13.985395039852294\n",
      "R-squared: 0.920496480491735\n"
     ]
    }
   ],
   "source": [
    "mse = mean_squared_error(y_test, y_pred)\n",
    "rmse = np.sqrt(mse)\n",
    "mae = mean_absolute_error(y_test, y_pred)\n",
    "r2 = r2_score(y_test, y_pred)\n",
    "\n",
    "print(\"Mean Squared Error:\", mse)\n",
    "print(\"Root Mean Squared Error:\", rmse)\n",
    "print(\"Mean Absolute Error:\", mae)\n",
    "print(\"R-squared:\", r2)"
   ]
  },
  {
   "cell_type": "markdown",
   "id": "5bf31ea2",
   "metadata": {},
   "source": [
    "# C = 1 , Epsilon = 0.0001 , Gamma = 0.001 "
   ]
  },
  {
   "cell_type": "code",
   "execution_count": 197,
   "id": "57d0488b",
   "metadata": {},
   "outputs": [],
   "source": [
    "svr = SVR(kernel='rbf', C=1, gamma=0.001, epsilon=0.0001)"
   ]
  },
  {
   "cell_type": "code",
   "execution_count": 198,
   "id": "c3b252f0",
   "metadata": {},
   "outputs": [],
   "source": [
    "from sklearn.model_selection import cross_val_score\n",
    "scores = cross_val_score(svr, X, y, cv=5, scoring='r2')"
   ]
  },
  {
   "cell_type": "code",
   "execution_count": 199,
   "id": "a984a8c2",
   "metadata": {},
   "outputs": [
    {
     "name": "stdout",
     "output_type": "stream",
     "text": [
      "R-squared scores: [-49.55786204  -8.25151954   0.66094538  -1.78222591   0.77154004]\n",
      "R-squared mean: -11.63182441353666\n",
      "R-squared std: 19.244640920625887\n"
     ]
    }
   ],
   "source": [
    "# Menampilkan hasil validasi silang\n",
    "print('R-squared scores:', scores)\n",
    "print('R-squared mean:', scores.mean())\n",
    "print('R-squared std:', scores.std())"
   ]
  },
  {
   "cell_type": "code",
   "execution_count": 200,
   "id": "7aaada3a",
   "metadata": {
    "scrolled": true
   },
   "outputs": [
    {
     "data": {
      "text/plain": [
       "SVR(C=1, epsilon=0.0001, gamma=0.001)"
      ]
     },
     "execution_count": 200,
     "metadata": {},
     "output_type": "execute_result"
    }
   ],
   "source": [
    "svr.fit(X_train, y_train)"
   ]
  },
  {
   "cell_type": "code",
   "execution_count": 201,
   "id": "3a990f64",
   "metadata": {},
   "outputs": [],
   "source": [
    "y_pred = svr.predict(X_test)"
   ]
  },
  {
   "cell_type": "code",
   "execution_count": 202,
   "id": "c1bea4a5",
   "metadata": {
    "scrolled": true
   },
   "outputs": [
    {
     "name": "stdout",
     "output_type": "stream",
     "text": [
      "Mean Squared Error: 182.79846095733873\n",
      "Root Mean Squared Error: 13.52029810904104\n",
      "Mean Absolute Error: 5.727515103465411\n",
      "R-squared: 0.9803988106794269\n"
     ]
    }
   ],
   "source": [
    "mse = mean_squared_error(y_test, y_pred)\n",
    "rmse = np.sqrt(mse)\n",
    "mae = mean_absolute_error(y_test, y_pred)\n",
    "r2 = r2_score(y_test, y_pred)\n",
    "\n",
    "print(\"Mean Squared Error:\", mse)\n",
    "print(\"Root Mean Squared Error:\", rmse)\n",
    "print(\"Mean Absolute Error:\", mae)\n",
    "print(\"R-squared:\", r2)"
   ]
  },
  {
   "cell_type": "markdown",
   "id": "e98fb6a4",
   "metadata": {},
   "source": [
    "# C = 1 , Epsilon = 0.0001 , Gamma = 0.0001 "
   ]
  },
  {
   "cell_type": "code",
   "execution_count": 203,
   "id": "bf8089d6",
   "metadata": {},
   "outputs": [],
   "source": [
    "svr = SVR(kernel='rbf', C=1, gamma=0.0001, epsilon=0.0001)"
   ]
  },
  {
   "cell_type": "code",
   "execution_count": 204,
   "id": "28381e78",
   "metadata": {},
   "outputs": [],
   "source": [
    "from sklearn.model_selection import cross_val_score\n",
    "scores = cross_val_score(svr, X, y, cv=5, scoring='r2')"
   ]
  },
  {
   "cell_type": "code",
   "execution_count": 205,
   "id": "3b4cb8dd",
   "metadata": {},
   "outputs": [
    {
     "name": "stdout",
     "output_type": "stream",
     "text": [
      "R-squared scores: [-4.03744063  0.70017422  0.93912643  0.09070414  0.92831405]\n",
      "R-squared mean: -0.27582435804590333\n",
      "R-squared std: 1.905923822971147\n"
     ]
    }
   ],
   "source": [
    "# Menampilkan hasil validasi silang\n",
    "print('R-squared scores:', scores)\n",
    "print('R-squared mean:', scores.mean())\n",
    "print('R-squared std:', scores.std())"
   ]
  },
  {
   "cell_type": "code",
   "execution_count": 206,
   "id": "128dd97b",
   "metadata": {
    "scrolled": true
   },
   "outputs": [
    {
     "data": {
      "text/plain": [
       "SVR(C=1, epsilon=0.0001, gamma=0.0001)"
      ]
     },
     "execution_count": 206,
     "metadata": {},
     "output_type": "execute_result"
    }
   ],
   "source": [
    "svr.fit(X_train, y_train)"
   ]
  },
  {
   "cell_type": "code",
   "execution_count": 207,
   "id": "2608e821",
   "metadata": {},
   "outputs": [],
   "source": [
    "y_pred = svr.predict(X_test)"
   ]
  },
  {
   "cell_type": "code",
   "execution_count": 208,
   "id": "49bb1a80",
   "metadata": {
    "scrolled": false
   },
   "outputs": [
    {
     "name": "stdout",
     "output_type": "stream",
     "text": [
      "Mean Squared Error: 38.90759830455955\n",
      "Root Mean Squared Error: 6.237595554743795\n",
      "Mean Absolute Error: 3.1100533373413217\n",
      "R-squared: 0.9958279998836835\n"
     ]
    }
   ],
   "source": [
    "mse = mean_squared_error(y_test, y_pred)\n",
    "rmse = np.sqrt(mse)\n",
    "mae = mean_absolute_error(y_test, y_pred)\n",
    "r2 = r2_score(y_test, y_pred)\n",
    "\n",
    "print(\"Mean Squared Error:\", mse)\n",
    "print(\"Root Mean Squared Error:\", rmse)\n",
    "print(\"Mean Absolute Error:\", mae)\n",
    "print(\"R-squared:\", r2)"
   ]
  },
  {
   "cell_type": "markdown",
   "id": "ab965858",
   "metadata": {},
   "source": [
    "# C = 10 , Epsilon = 0.1 , Gamma = 0.1 "
   ]
  },
  {
   "cell_type": "code",
   "execution_count": 209,
   "id": "aee30070",
   "metadata": {},
   "outputs": [],
   "source": [
    "svr = SVR(kernel='rbf', C=10, gamma=0.1, epsilon=0.1)"
   ]
  },
  {
   "cell_type": "code",
   "execution_count": 210,
   "id": "5efd41ee",
   "metadata": {},
   "outputs": [],
   "source": [
    "from sklearn.model_selection import cross_val_score\n",
    "scores = cross_val_score(svr, X, y, cv=5, scoring='r2')"
   ]
  },
  {
   "cell_type": "code",
   "execution_count": 211,
   "id": "b93ccf55",
   "metadata": {},
   "outputs": [
    {
     "name": "stdout",
     "output_type": "stream",
     "text": [
      "R-squared scores: [-1.05031499e+03 -1.34444692e+02 -4.29959723e-01 -2.86932334e+00\n",
      "  4.19898943e-01]\n",
      "R-squared mean: -237.52781310430424\n",
      "R-squared std: 409.6701690006602\n"
     ]
    }
   ],
   "source": [
    "# Menampilkan hasil validasi silang\n",
    "print('R-squared scores:', scores)\n",
    "print('R-squared mean:', scores.mean())\n",
    "print('R-squared std:', scores.std())"
   ]
  },
  {
   "cell_type": "code",
   "execution_count": 212,
   "id": "290c7521",
   "metadata": {
    "scrolled": true
   },
   "outputs": [
    {
     "data": {
      "text/plain": [
       "SVR(C=10, gamma=0.1)"
      ]
     },
     "execution_count": 212,
     "metadata": {},
     "output_type": "execute_result"
    }
   ],
   "source": [
    "svr.fit(X_train, y_train)"
   ]
  },
  {
   "cell_type": "code",
   "execution_count": 213,
   "id": "9ab4b917",
   "metadata": {},
   "outputs": [],
   "source": [
    "y_pred = svr.predict(X_test)"
   ]
  },
  {
   "cell_type": "code",
   "execution_count": 214,
   "id": "f5c24f9b",
   "metadata": {
    "scrolled": false
   },
   "outputs": [
    {
     "name": "stdout",
     "output_type": "stream",
     "text": [
      "Mean Squared Error: 593.5526798803174\n",
      "Root Mean Squared Error: 24.36293660214871\n",
      "Mean Absolute Error: 10.931244296627888\n",
      "R-squared: 0.9363542866327368\n"
     ]
    }
   ],
   "source": [
    "mse = mean_squared_error(y_test, y_pred)\n",
    "rmse = np.sqrt(mse)\n",
    "mae = mean_absolute_error(y_test, y_pred)\n",
    "r2 = r2_score(y_test, y_pred)\n",
    "\n",
    "print(\"Mean Squared Error:\", mse)\n",
    "print(\"Root Mean Squared Error:\", rmse)\n",
    "print(\"Mean Absolute Error:\", mae)\n",
    "print(\"R-squared:\", r2)"
   ]
  },
  {
   "cell_type": "markdown",
   "id": "a4c87389",
   "metadata": {},
   "source": [
    "# C = 10 , Epsilon = 0.01 , Gamma = 0.1 "
   ]
  },
  {
   "cell_type": "code",
   "execution_count": 215,
   "id": "c23699b6",
   "metadata": {},
   "outputs": [],
   "source": [
    "svr = SVR(kernel='rbf', C=10, gamma=0.1, epsilon=0.01)"
   ]
  },
  {
   "cell_type": "code",
   "execution_count": 216,
   "id": "420174a2",
   "metadata": {},
   "outputs": [],
   "source": [
    "from sklearn.model_selection import cross_val_score\n",
    "scores = cross_val_score(svr, X, y, cv=5, scoring='r2')"
   ]
  },
  {
   "cell_type": "code",
   "execution_count": 217,
   "id": "d4d3a682",
   "metadata": {},
   "outputs": [
    {
     "name": "stdout",
     "output_type": "stream",
     "text": [
      "R-squared scores: [-1.05060559e+03 -1.34502140e+02 -4.30287369e-01 -2.86937251e+00\n",
      "  4.19859900e-01]\n",
      "R-squared mean: -237.59750668975545\n",
      "R-squared std: 409.78254163583324\n"
     ]
    }
   ],
   "source": [
    "# Menampilkan hasil validasi silang\n",
    "print('R-squared scores:', scores)\n",
    "print('R-squared mean:', scores.mean())\n",
    "print('R-squared std:', scores.std())"
   ]
  },
  {
   "cell_type": "code",
   "execution_count": 218,
   "id": "ebc92a7e",
   "metadata": {
    "scrolled": true
   },
   "outputs": [
    {
     "data": {
      "text/plain": [
       "SVR(C=10, epsilon=0.01, gamma=0.1)"
      ]
     },
     "execution_count": 218,
     "metadata": {},
     "output_type": "execute_result"
    }
   ],
   "source": [
    "svr.fit(X_train, y_train)"
   ]
  },
  {
   "cell_type": "code",
   "execution_count": 219,
   "id": "37278633",
   "metadata": {},
   "outputs": [],
   "source": [
    "y_pred = svr.predict(X_test)"
   ]
  },
  {
   "cell_type": "code",
   "execution_count": 220,
   "id": "928e7c97",
   "metadata": {
    "scrolled": false
   },
   "outputs": [
    {
     "name": "stdout",
     "output_type": "stream",
     "text": [
      "Mean Squared Error: 593.5711205734611\n",
      "Root Mean Squared Error: 24.36331505713993\n",
      "Mean Absolute Error: 10.933293100053778\n",
      "R-squared: 0.9363523092664306\n"
     ]
    }
   ],
   "source": [
    "mse = mean_squared_error(y_test, y_pred)\n",
    "rmse = np.sqrt(mse)\n",
    "mae = mean_absolute_error(y_test, y_pred)\n",
    "r2 = r2_score(y_test, y_pred)\n",
    "\n",
    "print(\"Mean Squared Error:\", mse)\n",
    "print(\"Root Mean Squared Error:\", rmse)\n",
    "print(\"Mean Absolute Error:\", mae)\n",
    "print(\"R-squared:\", r2)"
   ]
  },
  {
   "cell_type": "markdown",
   "id": "befda5dc",
   "metadata": {},
   "source": [
    "# C = 10 , Epsilon = 0.001 , Gamma = 0.1 "
   ]
  },
  {
   "cell_type": "code",
   "execution_count": 221,
   "id": "876224af",
   "metadata": {},
   "outputs": [],
   "source": [
    "svr = SVR(kernel='rbf', C=10, gamma=0.1, epsilon=0.001)"
   ]
  },
  {
   "cell_type": "code",
   "execution_count": 222,
   "id": "9c297085",
   "metadata": {},
   "outputs": [],
   "source": [
    "from sklearn.model_selection import cross_val_score\n",
    "scores = cross_val_score(svr, X, y, cv=5, scoring='r2')"
   ]
  },
  {
   "cell_type": "code",
   "execution_count": 223,
   "id": "b106b749",
   "metadata": {},
   "outputs": [
    {
     "name": "stdout",
     "output_type": "stream",
     "text": [
      "R-squared scores: [-1.05064036e+03 -1.34512996e+02 -4.30352137e-01 -2.86935969e+00\n",
      "  4.19867295e-01]\n",
      "R-squared mean: -237.6066407420929\n",
      "R-squared std: 409.79578699352174\n"
     ]
    }
   ],
   "source": [
    "# Menampilkan hasil validasi silang\n",
    "print('R-squared scores:', scores)\n",
    "print('R-squared mean:', scores.mean())\n",
    "print('R-squared std:', scores.std())"
   ]
  },
  {
   "cell_type": "code",
   "execution_count": 224,
   "id": "79bc35b0",
   "metadata": {
    "scrolled": true
   },
   "outputs": [
    {
     "data": {
      "text/plain": [
       "SVR(C=10, epsilon=0.001, gamma=0.1)"
      ]
     },
     "execution_count": 224,
     "metadata": {},
     "output_type": "execute_result"
    }
   ],
   "source": [
    "svr.fit(X_train, y_train)"
   ]
  },
  {
   "cell_type": "code",
   "execution_count": 225,
   "id": "6535a158",
   "metadata": {},
   "outputs": [],
   "source": [
    "y_pred = svr.predict(X_test)"
   ]
  },
  {
   "cell_type": "code",
   "execution_count": 226,
   "id": "5f0b7123",
   "metadata": {
    "scrolled": false
   },
   "outputs": [
    {
     "name": "stdout",
     "output_type": "stream",
     "text": [
      "Mean Squared Error: 593.5817068018748\n",
      "Root Mean Squared Error: 24.363532313724026\n",
      "Mean Absolute Error: 10.933022304760422\n",
      "R-squared: 0.9363511741219319\n"
     ]
    }
   ],
   "source": [
    "mse = mean_squared_error(y_test, y_pred)\n",
    "rmse = np.sqrt(mse)\n",
    "mae = mean_absolute_error(y_test, y_pred)\n",
    "r2 = r2_score(y_test, y_pred)\n",
    "\n",
    "print(\"Mean Squared Error:\", mse)\n",
    "print(\"Root Mean Squared Error:\", rmse)\n",
    "print(\"Mean Absolute Error:\", mae)\n",
    "print(\"R-squared:\", r2)"
   ]
  },
  {
   "cell_type": "markdown",
   "id": "52f0e460",
   "metadata": {},
   "source": [
    "# C = 10 , Epsilon = 0.0001 , Gamma = 0.1 "
   ]
  },
  {
   "cell_type": "code",
   "execution_count": 227,
   "id": "dde64f7f",
   "metadata": {},
   "outputs": [],
   "source": [
    "svr = SVR(kernel='rbf', C=10, gamma=0.1, epsilon=0.0001)"
   ]
  },
  {
   "cell_type": "code",
   "execution_count": 228,
   "id": "b46439ec",
   "metadata": {},
   "outputs": [],
   "source": [
    "from sklearn.model_selection import cross_val_score\n",
    "scores = cross_val_score(svr, X, y, cv=5, scoring='r2')"
   ]
  },
  {
   "cell_type": "code",
   "execution_count": 229,
   "id": "9b6363b5",
   "metadata": {},
   "outputs": [
    {
     "name": "stdout",
     "output_type": "stream",
     "text": [
      "R-squared scores: [-1.05064442e+03 -1.34513291e+02 -4.30354369e-01 -2.86936827e+00\n",
      "  4.19867335e-01]\n",
      "R-squared mean: -237.60751243927356\n",
      "R-squared std: 409.79737880763804\n"
     ]
    }
   ],
   "source": [
    "# Menampilkan hasil validasi silang\n",
    "print('R-squared scores:', scores)\n",
    "print('R-squared mean:', scores.mean())\n",
    "print('R-squared std:', scores.std())"
   ]
  },
  {
   "cell_type": "code",
   "execution_count": 230,
   "id": "756d1327",
   "metadata": {
    "scrolled": true
   },
   "outputs": [
    {
     "data": {
      "text/plain": [
       "SVR(C=10, epsilon=0.0001, gamma=0.1)"
      ]
     },
     "execution_count": 230,
     "metadata": {},
     "output_type": "execute_result"
    }
   ],
   "source": [
    "svr.fit(X_train, y_train)"
   ]
  },
  {
   "cell_type": "code",
   "execution_count": 231,
   "id": "773c25cd",
   "metadata": {},
   "outputs": [],
   "source": [
    "y_pred = svr.predict(X_test)"
   ]
  },
  {
   "cell_type": "code",
   "execution_count": 232,
   "id": "96b0ebc7",
   "metadata": {
    "scrolled": false
   },
   "outputs": [
    {
     "name": "stdout",
     "output_type": "stream",
     "text": [
      "Mean Squared Error: 593.5841952362899\n",
      "Root Mean Squared Error: 24.363583382505333\n",
      "Mean Absolute Error: 10.933080400771745\n",
      "R-squared: 0.9363509072910526\n"
     ]
    }
   ],
   "source": [
    "mse = mean_squared_error(y_test, y_pred)\n",
    "rmse = np.sqrt(mse)\n",
    "mae = mean_absolute_error(y_test, y_pred)\n",
    "r2 = r2_score(y_test, y_pred)\n",
    "\n",
    "print(\"Mean Squared Error:\", mse)\n",
    "print(\"Root Mean Squared Error:\", rmse)\n",
    "print(\"Mean Absolute Error:\", mae)\n",
    "print(\"R-squared:\", r2)"
   ]
  },
  {
   "cell_type": "markdown",
   "id": "13d23983",
   "metadata": {},
   "source": [
    "# C = 10 , Epsilon = 0.1 , Gamma = 0.01 "
   ]
  },
  {
   "cell_type": "code",
   "execution_count": 233,
   "id": "87e4fa9d",
   "metadata": {},
   "outputs": [],
   "source": [
    "svr = SVR(kernel='rbf', C=10, gamma=0.01, epsilon=0.1)"
   ]
  },
  {
   "cell_type": "code",
   "execution_count": 234,
   "id": "e770f7a2",
   "metadata": {},
   "outputs": [],
   "source": [
    "from sklearn.model_selection import cross_val_score\n",
    "scores = cross_val_score(svr, X, y, cv=5, scoring='r2')"
   ]
  },
  {
   "cell_type": "code",
   "execution_count": 235,
   "id": "9959ce3e",
   "metadata": {},
   "outputs": [
    {
     "name": "stdout",
     "output_type": "stream",
     "text": [
      "R-squared scores: [-2.61040766e+02  8.67409039e-01  1.53948446e-01 -1.09361699e-01\n",
      "  9.41529900e-01]\n",
      "R-squared mean: -51.83744811975613\n",
      "R-squared std: 104.60243884523832\n"
     ]
    }
   ],
   "source": [
    "# Menampilkan hasil validasi silang\n",
    "print('R-squared scores:', scores)\n",
    "print('R-squared mean:', scores.mean())\n",
    "print('R-squared std:', scores.std())"
   ]
  },
  {
   "cell_type": "code",
   "execution_count": 236,
   "id": "77a1baa4",
   "metadata": {
    "scrolled": true
   },
   "outputs": [
    {
     "data": {
      "text/plain": [
       "SVR(C=10, gamma=0.01)"
      ]
     },
     "execution_count": 236,
     "metadata": {},
     "output_type": "execute_result"
    }
   ],
   "source": [
    "svr.fit(X_train, y_train)"
   ]
  },
  {
   "cell_type": "code",
   "execution_count": 237,
   "id": "606cfbbd",
   "metadata": {},
   "outputs": [],
   "source": [
    "y_pred = svr.predict(X_test)"
   ]
  },
  {
   "cell_type": "code",
   "execution_count": 238,
   "id": "27a44fd3",
   "metadata": {
    "scrolled": false
   },
   "outputs": [
    {
     "name": "stdout",
     "output_type": "stream",
     "text": [
      "Mean Squared Error: 38.68663553997865\n",
      "Root Mean Squared Error: 6.219858160760473\n",
      "Mean Absolute Error: 2.600888830648178\n",
      "R-squared: 0.9958516933708096\n"
     ]
    }
   ],
   "source": [
    "mse = mean_squared_error(y_test, y_pred)\n",
    "rmse = np.sqrt(mse)\n",
    "mae = mean_absolute_error(y_test, y_pred)\n",
    "r2 = r2_score(y_test, y_pred)\n",
    "\n",
    "print(\"Mean Squared Error:\", mse)\n",
    "print(\"Root Mean Squared Error:\", rmse)\n",
    "print(\"Mean Absolute Error:\", mae)\n",
    "print(\"R-squared:\", r2)"
   ]
  },
  {
   "cell_type": "markdown",
   "id": "f6844e0c",
   "metadata": {},
   "source": [
    "# C = 10 , Epsilon = 0.1 , Gamma = 0.001 "
   ]
  },
  {
   "cell_type": "code",
   "execution_count": 239,
   "id": "0d85b329",
   "metadata": {},
   "outputs": [],
   "source": [
    "svr = SVR(kernel='rbf', C=10, gamma=0.001, epsilon=0.1)"
   ]
  },
  {
   "cell_type": "code",
   "execution_count": 240,
   "id": "3d8f4061",
   "metadata": {},
   "outputs": [],
   "source": [
    "from sklearn.model_selection import cross_val_score\n",
    "scores = cross_val_score(svr, X, y, cv=5, scoring='r2')"
   ]
  },
  {
   "cell_type": "code",
   "execution_count": 241,
   "id": "7f709f35",
   "metadata": {},
   "outputs": [
    {
     "name": "stdout",
     "output_type": "stream",
     "text": [
      "R-squared scores: [-5.4196484   0.98078866  0.72022279  0.83709419  0.99152955]\n",
      "R-squared mean: -0.37800264310943704\n",
      "R-squared std: 2.522803346338801\n"
     ]
    }
   ],
   "source": [
    "# Menampilkan hasil validasi silang\n",
    "print('R-squared scores:', scores)\n",
    "print('R-squared mean:', scores.mean())\n",
    "print('R-squared std:', scores.std())"
   ]
  },
  {
   "cell_type": "code",
   "execution_count": 242,
   "id": "577ed32f",
   "metadata": {
    "scrolled": true
   },
   "outputs": [
    {
     "data": {
      "text/plain": [
       "SVR(C=10, gamma=0.001)"
      ]
     },
     "execution_count": 242,
     "metadata": {},
     "output_type": "execute_result"
    }
   ],
   "source": [
    "svr.fit(X_train, y_train)"
   ]
  },
  {
   "cell_type": "code",
   "execution_count": 243,
   "id": "51c8cd64",
   "metadata": {},
   "outputs": [],
   "source": [
    "y_pred = svr.predict(X_test)"
   ]
  },
  {
   "cell_type": "code",
   "execution_count": 244,
   "id": "c5f22caa",
   "metadata": {
    "scrolled": false
   },
   "outputs": [
    {
     "name": "stdout",
     "output_type": "stream",
     "text": [
      "Mean Squared Error: 3.44360923652481\n",
      "Root Mean Squared Error: 1.8556964289788376\n",
      "Mean Absolute Error: 1.1049455163286541\n",
      "R-squared: 0.9996307472380364\n"
     ]
    }
   ],
   "source": [
    "mse = mean_squared_error(y_test, y_pred)\n",
    "rmse = np.sqrt(mse)\n",
    "mae = mean_absolute_error(y_test, y_pred)\n",
    "r2 = r2_score(y_test, y_pred)\n",
    "\n",
    "print(\"Mean Squared Error:\", mse)\n",
    "print(\"Root Mean Squared Error:\", rmse)\n",
    "print(\"Mean Absolute Error:\", mae)\n",
    "print(\"R-squared:\", r2)"
   ]
  },
  {
   "cell_type": "markdown",
   "id": "17c6ec5e",
   "metadata": {},
   "source": [
    "# C = 10 , Epsilon = 0.1 , Gamma = 0.0001 "
   ]
  },
  {
   "cell_type": "code",
   "execution_count": 245,
   "id": "c6624b75",
   "metadata": {},
   "outputs": [],
   "source": [
    "svr = SVR(kernel='rbf', C=10, gamma=0.01, epsilon=0.1)"
   ]
  },
  {
   "cell_type": "code",
   "execution_count": 246,
   "id": "86196544",
   "metadata": {},
   "outputs": [],
   "source": [
    "from sklearn.model_selection import cross_val_score\n",
    "scores = cross_val_score(svr, X, y, cv=5, scoring='r2')"
   ]
  },
  {
   "cell_type": "code",
   "execution_count": 247,
   "id": "ae2a54e1",
   "metadata": {},
   "outputs": [
    {
     "name": "stdout",
     "output_type": "stream",
     "text": [
      "R-squared scores: [-2.61040766e+02  8.67409039e-01  1.53948446e-01 -1.09361699e-01\n",
      "  9.41529900e-01]\n",
      "R-squared mean: -51.83744811975613\n",
      "R-squared std: 104.60243884523832\n"
     ]
    }
   ],
   "source": [
    "# Menampilkan hasil validasi silang\n",
    "print('R-squared scores:', scores)\n",
    "print('R-squared mean:', scores.mean())\n",
    "print('R-squared std:', scores.std())"
   ]
  },
  {
   "cell_type": "code",
   "execution_count": 248,
   "id": "84d0a966",
   "metadata": {
    "scrolled": true
   },
   "outputs": [
    {
     "data": {
      "text/plain": [
       "SVR(C=10, gamma=0.01)"
      ]
     },
     "execution_count": 248,
     "metadata": {},
     "output_type": "execute_result"
    }
   ],
   "source": [
    "svr.fit(X_train, y_train)"
   ]
  },
  {
   "cell_type": "code",
   "execution_count": 249,
   "id": "3737b000",
   "metadata": {},
   "outputs": [],
   "source": [
    "y_pred = svr.predict(X_test)"
   ]
  },
  {
   "cell_type": "code",
   "execution_count": 250,
   "id": "91422317",
   "metadata": {
    "scrolled": false
   },
   "outputs": [
    {
     "name": "stdout",
     "output_type": "stream",
     "text": [
      "Mean Squared Error: 38.68663553997865\n",
      "Root Mean Squared Error: 6.219858160760473\n",
      "Mean Absolute Error: 2.600888830648178\n",
      "R-squared: 0.9958516933708096\n"
     ]
    }
   ],
   "source": [
    "mse = mean_squared_error(y_test, y_pred)\n",
    "rmse = np.sqrt(mse)\n",
    "mae = mean_absolute_error(y_test, y_pred)\n",
    "r2 = r2_score(y_test, y_pred)\n",
    "\n",
    "print(\"Mean Squared Error:\", mse)\n",
    "print(\"Root Mean Squared Error:\", rmse)\n",
    "print(\"Mean Absolute Error:\", mae)\n",
    "print(\"R-squared:\", r2)"
   ]
  },
  {
   "cell_type": "markdown",
   "id": "086e0d60",
   "metadata": {},
   "source": [
    "# C = 10 , Epsilon = 0.01 , Gamma = 0.01 "
   ]
  },
  {
   "cell_type": "code",
   "execution_count": 251,
   "id": "718322a8",
   "metadata": {},
   "outputs": [],
   "source": [
    "svr = SVR(kernel='rbf', C=10, gamma=0.01, epsilon=0.01)"
   ]
  },
  {
   "cell_type": "code",
   "execution_count": 252,
   "id": "310a6f6b",
   "metadata": {},
   "outputs": [],
   "source": [
    "from sklearn.model_selection import cross_val_score\n",
    "scores = cross_val_score(svr, X, y, cv=5, scoring='r2')"
   ]
  },
  {
   "cell_type": "code",
   "execution_count": 253,
   "id": "4b0ad2c3",
   "metadata": {},
   "outputs": [
    {
     "name": "stdout",
     "output_type": "stream",
     "text": [
      "R-squared scores: [-2.58859001e+02  8.67131761e-01  1.54504214e-01 -1.11686868e-01\n",
      "  9.41400949e-01]\n",
      "R-squared mean: -51.40153010013919\n",
      "R-squared std: 103.7295234589222\n"
     ]
    }
   ],
   "source": [
    "# Menampilkan hasil validasi silang\n",
    "print('R-squared scores:', scores)\n",
    "print('R-squared mean:', scores.mean())\n",
    "print('R-squared std:', scores.std())"
   ]
  },
  {
   "cell_type": "code",
   "execution_count": 254,
   "id": "e4a9791d",
   "metadata": {
    "scrolled": true
   },
   "outputs": [
    {
     "data": {
      "text/plain": [
       "SVR(C=10, epsilon=0.01, gamma=0.01)"
      ]
     },
     "execution_count": 254,
     "metadata": {},
     "output_type": "execute_result"
    }
   ],
   "source": [
    "svr.fit(X_train, y_train)"
   ]
  },
  {
   "cell_type": "code",
   "execution_count": 255,
   "id": "994a7adc",
   "metadata": {},
   "outputs": [],
   "source": [
    "y_pred = svr.predict(X_test)"
   ]
  },
  {
   "cell_type": "code",
   "execution_count": 256,
   "id": "bd9f4cc3",
   "metadata": {
    "scrolled": false
   },
   "outputs": [
    {
     "name": "stdout",
     "output_type": "stream",
     "text": [
      "Mean Squared Error: 38.56972078868568\n",
      "Root Mean Squared Error: 6.210452542986355\n",
      "Mean Absolute Error: 2.5978530401191806\n",
      "R-squared: 0.9958642299543369\n"
     ]
    }
   ],
   "source": [
    "mse = mean_squared_error(y_test, y_pred)\n",
    "rmse = np.sqrt(mse)\n",
    "mae = mean_absolute_error(y_test, y_pred)\n",
    "r2 = r2_score(y_test, y_pred)\n",
    "\n",
    "print(\"Mean Squared Error:\", mse)\n",
    "print(\"Root Mean Squared Error:\", rmse)\n",
    "print(\"Mean Absolute Error:\", mae)\n",
    "print(\"R-squared:\", r2)"
   ]
  },
  {
   "cell_type": "markdown",
   "id": "9f6b1469",
   "metadata": {},
   "source": [
    "# C = 10 , Epsilon = 0.01 , Gamma = 0.001 "
   ]
  },
  {
   "cell_type": "code",
   "execution_count": 257,
   "id": "e0ff9583",
   "metadata": {},
   "outputs": [],
   "source": [
    "svr = SVR(kernel='rbf', C=10, gamma=0.001, epsilon=0.01)"
   ]
  },
  {
   "cell_type": "code",
   "execution_count": 258,
   "id": "7aabf749",
   "metadata": {},
   "outputs": [],
   "source": [
    "from sklearn.model_selection import cross_val_score\n",
    "scores = cross_val_score(svr, X, y, cv=5, scoring='r2')"
   ]
  },
  {
   "cell_type": "code",
   "execution_count": 259,
   "id": "52c6a093",
   "metadata": {},
   "outputs": [
    {
     "name": "stdout",
     "output_type": "stream",
     "text": [
      "R-squared scores: [-5.3142368   0.98124224  0.72055152  0.83811179  0.99150755]\n",
      "R-squared mean: -0.3565647424823163\n",
      "R-squared std: 2.480845425177572\n"
     ]
    }
   ],
   "source": [
    "# Menampilkan hasil validasi silang\n",
    "print('R-squared scores:', scores)\n",
    "print('R-squared mean:', scores.mean())\n",
    "print('R-squared std:', scores.std())"
   ]
  },
  {
   "cell_type": "code",
   "execution_count": 260,
   "id": "86a0e4f5",
   "metadata": {
    "scrolled": true
   },
   "outputs": [
    {
     "data": {
      "text/plain": [
       "SVR(C=10, epsilon=0.01, gamma=0.001)"
      ]
     },
     "execution_count": 260,
     "metadata": {},
     "output_type": "execute_result"
    }
   ],
   "source": [
    "svr.fit(X_train, y_train)"
   ]
  },
  {
   "cell_type": "code",
   "execution_count": 261,
   "id": "f568cdd9",
   "metadata": {},
   "outputs": [],
   "source": [
    "y_pred = svr.predict(X_test)"
   ]
  },
  {
   "cell_type": "code",
   "execution_count": 262,
   "id": "f759892c",
   "metadata": {
    "scrolled": false
   },
   "outputs": [
    {
     "name": "stdout",
     "output_type": "stream",
     "text": [
      "Mean Squared Error: 3.431406507378138\n",
      "Root Mean Squared Error: 1.8524056001259923\n",
      "Mean Absolute Error: 1.1030264339302216\n",
      "R-squared: 0.9996320557173473\n"
     ]
    }
   ],
   "source": [
    "mse = mean_squared_error(y_test, y_pred)\n",
    "rmse = np.sqrt(mse)\n",
    "mae = mean_absolute_error(y_test, y_pred)\n",
    "r2 = r2_score(y_test, y_pred)\n",
    "\n",
    "print(\"Mean Squared Error:\", mse)\n",
    "print(\"Root Mean Squared Error:\", rmse)\n",
    "print(\"Mean Absolute Error:\", mae)\n",
    "print(\"R-squared:\", r2)"
   ]
  },
  {
   "cell_type": "markdown",
   "id": "84093325",
   "metadata": {},
   "source": [
    "# C = 10 , Epsilon = 0.01 , Gamma = 0.0001 "
   ]
  },
  {
   "cell_type": "code",
   "execution_count": 263,
   "id": "0002cf20",
   "metadata": {},
   "outputs": [],
   "source": [
    "svr = SVR(kernel='rbf', C=10, gamma=0.0001, epsilon=0.01)"
   ]
  },
  {
   "cell_type": "code",
   "execution_count": 264,
   "id": "4ffd4b6b",
   "metadata": {},
   "outputs": [],
   "source": [
    "from sklearn.model_selection import cross_val_score\n",
    "scores = cross_val_score(svr, X, y, cv=5, scoring='r2')"
   ]
  },
  {
   "cell_type": "code",
   "execution_count": 265,
   "id": "3655cd56",
   "metadata": {},
   "outputs": [
    {
     "name": "stdout",
     "output_type": "stream",
     "text": [
      "R-squared scores: [0.55393612 0.96222393 0.99152583 0.94088271 0.99063584]\n",
      "R-squared mean: 0.8878408890550741\n",
      "R-squared std: 0.16802144990605025\n"
     ]
    }
   ],
   "source": [
    "# Menampilkan hasil validasi silang\n",
    "print('R-squared scores:', scores)\n",
    "print('R-squared mean:', scores.mean())\n",
    "print('R-squared std:', scores.std())"
   ]
  },
  {
   "cell_type": "code",
   "execution_count": 266,
   "id": "16a6fe6f",
   "metadata": {
    "scrolled": true
   },
   "outputs": [
    {
     "data": {
      "text/plain": [
       "SVR(C=10, epsilon=0.01, gamma=0.0001)"
      ]
     },
     "execution_count": 266,
     "metadata": {},
     "output_type": "execute_result"
    }
   ],
   "source": [
    "svr.fit(X_train, y_train)"
   ]
  },
  {
   "cell_type": "code",
   "execution_count": 267,
   "id": "7e68c716",
   "metadata": {},
   "outputs": [],
   "source": [
    "y_pred = svr.predict(X_test)"
   ]
  },
  {
   "cell_type": "code",
   "execution_count": 268,
   "id": "c9c73bdb",
   "metadata": {
    "scrolled": false
   },
   "outputs": [
    {
     "name": "stdout",
     "output_type": "stream",
     "text": [
      "Mean Squared Error: 4.514465332460753\n",
      "Root Mean Squared Error: 2.124727119528706\n",
      "Mean Absolute Error: 1.3212154822135076\n",
      "R-squared: 0.9995159210356624\n"
     ]
    }
   ],
   "source": [
    "mse = mean_squared_error(y_test, y_pred)\n",
    "rmse = np.sqrt(mse)\n",
    "mae = mean_absolute_error(y_test, y_pred)\n",
    "r2 = r2_score(y_test, y_pred)\n",
    "\n",
    "print(\"Mean Squared Error:\", mse)\n",
    "print(\"Root Mean Squared Error:\", rmse)\n",
    "print(\"Mean Absolute Error:\", mae)\n",
    "print(\"R-squared:\", r2)"
   ]
  },
  {
   "cell_type": "markdown",
   "id": "e3502e32",
   "metadata": {},
   "source": [
    "# C = 10 , Epsilon = 0.001 , Gamma = 0.01 "
   ]
  },
  {
   "cell_type": "code",
   "execution_count": 269,
   "id": "304131ed",
   "metadata": {},
   "outputs": [],
   "source": [
    "svr = SVR(kernel='rbf', C=10, gamma=0.01, epsilon=0.001)"
   ]
  },
  {
   "cell_type": "code",
   "execution_count": 270,
   "id": "46f4c5e0",
   "metadata": {},
   "outputs": [],
   "source": [
    "from sklearn.model_selection import cross_val_score\n",
    "scores = cross_val_score(svr, X, y, cv=5, scoring='r2')"
   ]
  },
  {
   "cell_type": "code",
   "execution_count": 271,
   "id": "1e8ba2b5",
   "metadata": {},
   "outputs": [
    {
     "name": "stdout",
     "output_type": "stream",
     "text": [
      "R-squared scores: [-2.58931194e+02  8.67403505e-01  1.54287836e-01 -1.12007780e-01\n",
      "  9.41414579e-01]\n",
      "R-squared mean: -51.4160191837561\n",
      "R-squared std: 103.75837615735776\n"
     ]
    }
   ],
   "source": [
    "# Menampilkan hasil validasi silang\n",
    "print('R-squared scores:', scores)\n",
    "print('R-squared mean:', scores.mean())\n",
    "print('R-squared std:', scores.std())"
   ]
  },
  {
   "cell_type": "code",
   "execution_count": 272,
   "id": "009df4ee",
   "metadata": {
    "scrolled": true
   },
   "outputs": [
    {
     "data": {
      "text/plain": [
       "SVR(C=10, epsilon=0.001, gamma=0.01)"
      ]
     },
     "execution_count": 272,
     "metadata": {},
     "output_type": "execute_result"
    }
   ],
   "source": [
    "svr.fit(X_train, y_train)"
   ]
  },
  {
   "cell_type": "code",
   "execution_count": 273,
   "id": "48754f43",
   "metadata": {},
   "outputs": [],
   "source": [
    "y_pred = svr.predict(X_test)"
   ]
  },
  {
   "cell_type": "code",
   "execution_count": 274,
   "id": "b9e24063",
   "metadata": {
    "scrolled": false
   },
   "outputs": [
    {
     "name": "stdout",
     "output_type": "stream",
     "text": [
      "Mean Squared Error: 38.58944369927392\n",
      "Root Mean Squared Error: 6.212040220352241\n",
      "Mean Absolute Error: 2.598992798053232\n",
      "R-squared: 0.9958621150978859\n"
     ]
    }
   ],
   "source": [
    "mse = mean_squared_error(y_test, y_pred)\n",
    "rmse = np.sqrt(mse)\n",
    "mae = mean_absolute_error(y_test, y_pred)\n",
    "r2 = r2_score(y_test, y_pred)\n",
    "\n",
    "print(\"Mean Squared Error:\", mse)\n",
    "print(\"Root Mean Squared Error:\", rmse)\n",
    "print(\"Mean Absolute Error:\", mae)\n",
    "print(\"R-squared:\", r2)"
   ]
  },
  {
   "cell_type": "markdown",
   "id": "b6b2749e",
   "metadata": {},
   "source": [
    "# C = 10 , Epsilon = 0.001 , Gamma = 0.001 "
   ]
  },
  {
   "cell_type": "code",
   "execution_count": 275,
   "id": "8cc11c78",
   "metadata": {},
   "outputs": [],
   "source": [
    "svr = SVR(kernel='rbf', C=10, gamma=0.001, epsilon=0.001)"
   ]
  },
  {
   "cell_type": "code",
   "execution_count": 276,
   "id": "ff606ffe",
   "metadata": {},
   "outputs": [],
   "source": [
    "from sklearn.model_selection import cross_val_score\n",
    "scores = cross_val_score(svr, X, y, cv=5, scoring='r2')"
   ]
  },
  {
   "cell_type": "code",
   "execution_count": 277,
   "id": "116b409c",
   "metadata": {},
   "outputs": [
    {
     "name": "stdout",
     "output_type": "stream",
     "text": [
      "R-squared scores: [-5.37618925  0.98107087  0.72060018  0.83817171  0.99150593]\n",
      "R-squared mean: -0.36896811015586917\n",
      "R-squared std: 2.5055978962028393\n"
     ]
    }
   ],
   "source": [
    "# Menampilkan hasil validasi silang\n",
    "print('R-squared scores:', scores)\n",
    "print('R-squared mean:', scores.mean())\n",
    "print('R-squared std:', scores.std())"
   ]
  },
  {
   "cell_type": "code",
   "execution_count": 278,
   "id": "3eebaa58",
   "metadata": {
    "scrolled": true
   },
   "outputs": [
    {
     "data": {
      "text/plain": [
       "SVR(C=10, epsilon=0.001, gamma=0.001)"
      ]
     },
     "execution_count": 278,
     "metadata": {},
     "output_type": "execute_result"
    }
   ],
   "source": [
    "svr.fit(X_train, y_train)"
   ]
  },
  {
   "cell_type": "code",
   "execution_count": 279,
   "id": "52eff578",
   "metadata": {},
   "outputs": [],
   "source": [
    "y_pred = svr.predict(X_test)"
   ]
  },
  {
   "cell_type": "code",
   "execution_count": 280,
   "id": "3cdfc0c3",
   "metadata": {
    "scrolled": false
   },
   "outputs": [
    {
     "name": "stdout",
     "output_type": "stream",
     "text": [
      "Mean Squared Error: 3.4288990348301756\n",
      "Root Mean Squared Error: 1.8517286612325725\n",
      "Mean Absolute Error: 1.103194643733742\n",
      "R-squared: 0.9996323245896555\n"
     ]
    }
   ],
   "source": [
    "mse = mean_squared_error(y_test, y_pred)\n",
    "rmse = np.sqrt(mse)\n",
    "mae = mean_absolute_error(y_test, y_pred)\n",
    "r2 = r2_score(y_test, y_pred)\n",
    "\n",
    "print(\"Mean Squared Error:\", mse)\n",
    "print(\"Root Mean Squared Error:\", rmse)\n",
    "print(\"Mean Absolute Error:\", mae)\n",
    "print(\"R-squared:\", r2)"
   ]
  },
  {
   "cell_type": "markdown",
   "id": "e9d5e8cc",
   "metadata": {},
   "source": [
    "# C = 10 , Epsilon = 0.001 , Gamma = 0.0001 "
   ]
  },
  {
   "cell_type": "code",
   "execution_count": 281,
   "id": "773268f6",
   "metadata": {},
   "outputs": [],
   "source": [
    "svr = SVR(kernel='rbf', C=10, gamma=0.0001, epsilon=0.001)"
   ]
  },
  {
   "cell_type": "code",
   "execution_count": 282,
   "id": "ba673dd9",
   "metadata": {},
   "outputs": [],
   "source": [
    "from sklearn.model_selection import cross_val_score\n",
    "scores = cross_val_score(svr, X, y, cv=5, scoring='r2')"
   ]
  },
  {
   "cell_type": "code",
   "execution_count": 283,
   "id": "b17acdf7",
   "metadata": {},
   "outputs": [
    {
     "name": "stdout",
     "output_type": "stream",
     "text": [
      "R-squared scores: [0.55858489 0.96282835 0.99149878 0.94073362 0.99064381]\n",
      "R-squared mean: 0.888857891124253\n",
      "R-squared std: 0.16621582413407984\n"
     ]
    }
   ],
   "source": [
    "# Menampilkan hasil validasi silang\n",
    "print('R-squared scores:', scores)\n",
    "print('R-squared mean:', scores.mean())\n",
    "print('R-squared std:', scores.std())"
   ]
  },
  {
   "cell_type": "code",
   "execution_count": 284,
   "id": "b9d76bd2",
   "metadata": {
    "scrolled": true
   },
   "outputs": [
    {
     "data": {
      "text/plain": [
       "SVR(C=10, epsilon=0.001, gamma=0.0001)"
      ]
     },
     "execution_count": 284,
     "metadata": {},
     "output_type": "execute_result"
    }
   ],
   "source": [
    "svr.fit(X_train, y_train)"
   ]
  },
  {
   "cell_type": "code",
   "execution_count": 285,
   "id": "1e4fbc05",
   "metadata": {},
   "outputs": [],
   "source": [
    "y_pred = svr.predict(X_test)"
   ]
  },
  {
   "cell_type": "code",
   "execution_count": 286,
   "id": "343b5207",
   "metadata": {
    "scrolled": false
   },
   "outputs": [
    {
     "name": "stdout",
     "output_type": "stream",
     "text": [
      "Mean Squared Error: 4.543810374860177\n",
      "Root Mean Squared Error: 2.1316215364975504\n",
      "Mean Absolute Error: 1.324803154624826\n",
      "R-squared: 0.9995127744132638\n"
     ]
    }
   ],
   "source": [
    "mse = mean_squared_error(y_test, y_pred)\n",
    "rmse = np.sqrt(mse)\n",
    "mae = mean_absolute_error(y_test, y_pred)\n",
    "r2 = r2_score(y_test, y_pred)\n",
    "\n",
    "print(\"Mean Squared Error:\", mse)\n",
    "print(\"Root Mean Squared Error:\", rmse)\n",
    "print(\"Mean Absolute Error:\", mae)\n",
    "print(\"R-squared:\", r2)"
   ]
  },
  {
   "cell_type": "markdown",
   "id": "f09f390c",
   "metadata": {},
   "source": [
    "# C = 10 , Epsilon = 0.0001 , Gamma = 0.01 "
   ]
  },
  {
   "cell_type": "code",
   "execution_count": 287,
   "id": "40d7b89a",
   "metadata": {},
   "outputs": [],
   "source": [
    "svr = SVR(kernel='rbf', C=10, gamma=0.01, epsilon=0.0001)"
   ]
  },
  {
   "cell_type": "code",
   "execution_count": 288,
   "id": "24ad7c44",
   "metadata": {},
   "outputs": [],
   "source": [
    "from sklearn.model_selection import cross_val_score\n",
    "scores = cross_val_score(svr, X, y, cv=5, scoring='r2')"
   ]
  },
  {
   "cell_type": "code",
   "execution_count": 289,
   "id": "833c9a5e",
   "metadata": {},
   "outputs": [
    {
     "name": "stdout",
     "output_type": "stream",
     "text": [
      "R-squared scores: [-2.58920447e+02  8.67422665e-01  1.54297664e-01 -1.12060191e-01\n",
      "  9.41416067e-01]\n",
      "R-squared mean: -51.41387416435939\n",
      "R-squared std: 103.7540752521381\n"
     ]
    }
   ],
   "source": [
    "# Menampilkan hasil validasi silang\n",
    "print('R-squared scores:', scores)\n",
    "print('R-squared mean:', scores.mean())\n",
    "print('R-squared std:', scores.std())"
   ]
  },
  {
   "cell_type": "code",
   "execution_count": 290,
   "id": "4ec00cd9",
   "metadata": {
    "scrolled": true
   },
   "outputs": [
    {
     "data": {
      "text/plain": [
       "SVR(C=10, epsilon=0.0001, gamma=0.01)"
      ]
     },
     "execution_count": 290,
     "metadata": {},
     "output_type": "execute_result"
    }
   ],
   "source": [
    "svr.fit(X_train, y_train)"
   ]
  },
  {
   "cell_type": "code",
   "execution_count": 291,
   "id": "27091253",
   "metadata": {},
   "outputs": [],
   "source": [
    "y_pred = svr.predict(X_test)"
   ]
  },
  {
   "cell_type": "code",
   "execution_count": 292,
   "id": "3fd58948",
   "metadata": {
    "scrolled": false
   },
   "outputs": [
    {
     "name": "stdout",
     "output_type": "stream",
     "text": [
      "Mean Squared Error: 38.591440593303844\n",
      "Root Mean Squared Error: 6.212200945985557\n",
      "Mean Absolute Error: 2.599068906516067\n",
      "R-squared: 0.9958619009741032\n"
     ]
    }
   ],
   "source": [
    "mse = mean_squared_error(y_test, y_pred)\n",
    "rmse = np.sqrt(mse)\n",
    "mae = mean_absolute_error(y_test, y_pred)\n",
    "r2 = r2_score(y_test, y_pred)\n",
    "\n",
    "print(\"Mean Squared Error:\", mse)\n",
    "print(\"Root Mean Squared Error:\", rmse)\n",
    "print(\"Mean Absolute Error:\", mae)\n",
    "print(\"R-squared:\", r2)"
   ]
  },
  {
   "cell_type": "code",
   "execution_count": 293,
   "id": "d1905928",
   "metadata": {},
   "outputs": [],
   "source": [
    "from sklearn.model_selection import train_test_split\n",
    "X_train, X_test, y_train, y_test = train_test_split(X, y, test_size=0.2, random_state=42)"
   ]
  },
  {
   "cell_type": "markdown",
   "id": "f528b11d",
   "metadata": {},
   "source": [
    "# Hasil dengan Error Terkecil\n",
    "# C = 10 , Epsilon = 0.001 , Gamma = 0.001 "
   ]
  },
  {
   "cell_type": "code",
   "execution_count": 294,
   "id": "d98602d8",
   "metadata": {},
   "outputs": [],
   "source": [
    "svr = SVR(kernel='rbf', C=10, gamma=0.001, epsilon=0.001)"
   ]
  },
  {
   "cell_type": "code",
   "execution_count": 295,
   "id": "80ecd18e",
   "metadata": {},
   "outputs": [],
   "source": [
    "from sklearn.model_selection import cross_val_score\n",
    "scores = cross_val_score(svr, X, y, cv=5, scoring='r2')"
   ]
  },
  {
   "cell_type": "code",
   "execution_count": 296,
   "id": "7bee0d60",
   "metadata": {},
   "outputs": [
    {
     "name": "stdout",
     "output_type": "stream",
     "text": [
      "R-squared scores: [-5.37618925  0.98107087  0.72060018  0.83817171  0.99150593]\n",
      "R-squared mean: -0.36896811015586917\n",
      "R-squared std: 2.5055978962028393\n"
     ]
    }
   ],
   "source": [
    "# Menampilkan hasil validasi silang\n",
    "print('R-squared scores:', scores)\n",
    "print('R-squared mean:', scores.mean())\n",
    "print('R-squared std:', scores.std())"
   ]
  },
  {
   "cell_type": "code",
   "execution_count": 297,
   "id": "e16b6646",
   "metadata": {
    "scrolled": true
   },
   "outputs": [
    {
     "data": {
      "text/plain": [
       "SVR(C=10, epsilon=0.001, gamma=0.001)"
      ]
     },
     "execution_count": 297,
     "metadata": {},
     "output_type": "execute_result"
    }
   ],
   "source": [
    "svr.fit(X_train, y_train)"
   ]
  },
  {
   "cell_type": "code",
   "execution_count": 298,
   "id": "b26697c7",
   "metadata": {},
   "outputs": [],
   "source": [
    "y_pred = svr.predict(X_test)"
   ]
  },
  {
   "cell_type": "code",
   "execution_count": 299,
   "id": "c9905aed",
   "metadata": {
    "scrolled": false
   },
   "outputs": [
    {
     "name": "stdout",
     "output_type": "stream",
     "text": [
      "Mean Squared Error: 3.4288990348301756\n",
      "Root Mean Squared Error: 1.8517286612325725\n",
      "Mean Absolute Error: 1.103194643733742\n",
      "R-squared: 0.9996323245896555\n"
     ]
    }
   ],
   "source": [
    "mse = mean_squared_error(y_test, y_pred)\n",
    "rmse = np.sqrt(mse)\n",
    "mae = mean_absolute_error(y_test, y_pred)\n",
    "r2 = r2_score(y_test, y_pred)\n",
    "\n",
    "print(\"Mean Squared Error:\", mse)\n",
    "print(\"Root Mean Squared Error:\", rmse)\n",
    "print(\"Mean Absolute Error:\", mae)\n",
    "print(\"R-squared:\", r2)"
   ]
  },
  {
   "cell_type": "code",
   "execution_count": 300,
   "id": "f13e1433",
   "metadata": {},
   "outputs": [
    {
     "name": "stdout",
     "output_type": "stream",
     "text": [
      "Koefisien Determinasi (R-squared) untuk Data Latih: 0.999436928173908\n",
      "Koefisien Determinasi (R-squared) untuk Data Uji: 0.9996323245896555\n"
     ]
    }
   ],
   "source": [
    "# Melakukan prediksi pada data latih dan data uji\n",
    "y_train_pred = svr.predict(X_train)\n",
    "y_test_pred = svr.predict(X_test)\n",
    "\n",
    "# Menghitung koefisien determinasi (R-squared) untuk data latih dan data uji\n",
    "r_squared_train = r2_score(y_train, y_train_pred)\n",
    "r_squared_test = r2_score(y_test, y_test_pred)\n",
    "\n",
    "print(\"Koefisien Determinasi (R-squared) untuk Data Latih:\", r_squared_train)\n",
    "print(\"Koefisien Determinasi (R-squared) untuk Data Uji:\", r_squared_test)"
   ]
  },
  {
   "cell_type": "code",
   "execution_count": 301,
   "id": "3a337367",
   "metadata": {},
   "outputs": [
    {
     "data": {
      "image/png": "[encoded data removed]",
      "text/plain": [
       "<Figure size 1000x600 with 1 Axes>"
      ]
     },
     "metadata": {},
     "output_type": "display_data"
    }
   ],
   "source": [
    "# Visualisasi data training\n",
    "plt.figure(figsize=(10, 6))\n",
    "plt.scatter(X_train[:, 0], y_train, color='blue', label='Actual')\n",
    "plt.plot(X_train[:, 0], y_train_pred, color='red', label='Predicted')\n",
    "plt.title('SVR - Data Training (R-squared = {:.2f})'.format(r_squared_train))\n",
    "plt.xlabel('Open')\n",
    "plt.ylabel('Close')\n",
    "plt.legend()\n",
    "plt.show()"
   ]
  },
  {
   "cell_type": "code",
   "execution_count": 302,
   "id": "c53f3cd5",
   "metadata": {
    "scrolled": false
   },
   "outputs": [
    {
     "data": {
      "image/png": "[encoded data removed]",
      "text/plain": [
       "<Figure size 1000x600 with 1 Axes>"
      ]
     },
     "metadata": {},
     "output_type": "display_data"
    }
   ],
   "source": [
    "# Visualisasi data testing\n",
    "plt.figure(figsize=(10, 6))\n",
    "plt.scatter(X_test[:, 0], y_test, color='blue', label='Actual')\n",
    "plt.plot(X_test[:, 0], y_test_pred, color='red', label='Predicted')\n",
    "plt.title('SVR - Data Testing (R-squared = {:.2f})'.format(r_squared_test))\n",
    "plt.xlabel('Open')\n",
    "plt.ylabel('Close')\n",
    "plt.legend()\n",
    "plt.show()"
   ]
  },
  {
   "cell_type": "code",
   "execution_count": 303,
   "id": "12280523",
   "metadata": {},
   "outputs": [],
   "source": [
    "tesla['Date'] = pd.to_datetime(tesla['Date'])"
   ]
  },
  {
   "cell_type": "code",
   "execution_count": 304,
   "id": "c26d95b3",
   "metadata": {},
   "outputs": [
    {
     "data": {
      "image/png": "[encoded data removed]",
      "text/plain": [
       "<Figure size 1200x600 with 1 Axes>"
      ]
     },
     "metadata": {},
     "output_type": "display_data"
    }
   ],
   "source": [
    "# Visualisasi tren perubahan harga saham\n",
    "plt.figure(figsize=(12, 6))\n",
    "\n",
    "# Plot data training\n",
    "plt.plot(tesla['Date'].iloc[:len(X_train)], y_train, color='blue', label='Actual (Training)')\n",
    "plt.plot(tesla['Date'].iloc[:len(X_train)], y_train_pred, color='red', label='Predicted (Training)')\n",
    "\n",
    "plt.title('SVR - Tesla Stock Price')\n",
    "plt.xlabel('Date')\n",
    "plt.ylabel('Close Price')\n",
    "plt.legend()\n",
    "plt.xticks(rotation=45)\n",
    "plt.tight_layout()\n",
    "plt.show()"
   ]
  },
  {
   "cell_type": "code",
   "execution_count": 305,
   "id": "1aa09174",
   "metadata": {
    "scrolled": false
   },
   "outputs": [
    {
     "data": {
      "image/png": "[encoded data removed]",
      "text/plain": [
       "<Figure size 640x480 with 1 Axes>"
      ]
     },
     "metadata": {},
     "output_type": "display_data"
    }
   ],
   "source": [
    "# Plot data testing\n",
    "plt.plot(tesla['Date'].iloc[-len(X_test):], y_test, color='green', label='Actual (Testing)')\n",
    "plt.plot(tesla['Date'].iloc[-len(X_test):], y_test_pred, color='orange', label='Predicted (Testing)')\n",
    "\n",
    "plt.title('SVR - Tesla Stock Price')\n",
    "plt.xlabel('Date')\n",
    "plt.ylabel('Close Price')\n",
    "plt.legend()\n",
    "plt.xticks(rotation=45)\n",
    "plt.tight_layout()\n",
    "plt.show()"
   ]
  },
  {
   "cell_type": "code",
   "execution_count": 306,
   "id": "ef212bf7",
   "metadata": {
    "scrolled": false
   },
   "outputs": [
    {
     "data": {
      "image/png": "[encoded data removed]",
      "text/plain": [
       "<Figure size 1200x600 with 1 Axes>"
      ]
     },
     "metadata": {},
     "output_type": "display_data"
    }
   ],
   "source": [
    "import matplotlib.dates as mpl_dates\n",
    "# Menggabungkan kolom 'Date' dengan fitur lainnya\n",
    "ohlc = tesla[['Date', 'Open', 'High', 'Low', 'Close']].values\n",
    "\n",
    "# Membuat grafik saham dengan candlestick chart\n",
    "fig, ax = plt.subplots(figsize=(12, 6))\n",
    "candlestick_data = np.column_stack((mpl_dates.date2num(ohlc[:, 0]), ohlc[:, 1:]))\n",
    "ax.plot([], [], color='green', label='Increase')\n",
    "ax.plot([], [], color='red', label='Decrease')\n",
    "ax.legend()\n",
    "\n",
    "candlestick_width = 0.6\n",
    "ax.bar(ohlc[:, 0], ohlc[:, 3] - ohlc[:, 1], width=candlestick_width, bottom=ohlc[:, 1], color=np.where(ohlc[:, 3] - ohlc[:, 1] >= 0, 'green', 'red'))\n",
    "ax.bar(ohlc[:, 0], ohlc[:, 2] - ohlc[:, 3], width=candlestick_width, bottom=ohlc[:, 3], color='black', alpha=0.2)\n",
    "\n",
    "ax.xaxis.set_major_locator(plt.MaxNLocator(6))\n",
    "ax.xaxis.set_major_formatter(mpl_dates.DateFormatter('%d-%m-%Y'))\n",
    "plt.xticks(rotation=45)\n",
    "\n",
    "plt.title('Tesla Stock Price - Candlestick Chart')\n",
    "plt.xlabel('Date')\n",
    "plt.ylabel('Price')\n",
    "plt.tight_layout()\n",
    "plt.show()"
   ]
  },
  {
   "cell_type": "markdown",
   "id": "e932fe7f",
   "metadata": {},
   "source": [
    "## Linear"
   ]
  },
  {
   "cell_type": "code",
   "execution_count": 307,
   "id": "0b5710dc",
   "metadata": {},
   "outputs": [],
   "source": [
    "svr = SVR(kernel='linear', C=0.1, gamma=0.1)"
   ]
  },
  {
   "cell_type": "code",
   "execution_count": 308,
   "id": "d2c1843d",
   "metadata": {},
   "outputs": [
    {
     "data": {
      "text/plain": [
       "SVR(C=0.1, gamma=0.1, kernel='linear')"
      ]
     },
     "execution_count": 308,
     "metadata": {},
     "output_type": "execute_result"
    }
   ],
   "source": [
    "svr.fit(X_train, y_train)"
   ]
  },
  {
   "cell_type": "code",
   "execution_count": 309,
   "id": "a4903654",
   "metadata": {},
   "outputs": [],
   "source": [
    "y_pred = svr.predict(X_test)"
   ]
  },
  {
   "cell_type": "code",
   "execution_count": 310,
   "id": "6ab8bf35",
   "metadata": {},
   "outputs": [
    {
     "name": "stdout",
     "output_type": "stream",
     "text": [
      "Mean Squared Error: 1.8688319110334317\n",
      "Root Mean Squared Error: 1.3670522707758588\n",
      "Mean Absolute Error: 0.9056468396128907\n",
      "R-squared: 0.999799608115382\n"
     ]
    }
   ],
   "source": [
    "mse = mean_squared_error(y_test, y_pred)\n",
    "rmse = np.sqrt(mse)\n",
    "mae = mean_absolute_error(y_test, y_pred)\n",
    "r2 = r2_score(y_test, y_pred)\n",
    "\n",
    "print(\"Mean Squared Error:\", mse)\n",
    "print(\"Root Mean Squared Error:\", rmse)\n",
    "print(\"Mean Absolute Error:\", mae)\n",
    "print(\"R-squared:\", r2)"
   ]
  },
  {
   "cell_type": "markdown",
   "id": "50309e52",
   "metadata": {},
   "source": [
    "## Polynomial"
   ]
  },
  {
   "cell_type": "code",
   "execution_count": 311,
   "id": "9c3a36a8",
   "metadata": {},
   "outputs": [],
   "source": [
    "svr = SVR(kernel='poly', C=0.1, gamma=0.1)"
   ]
  },
  {
   "cell_type": "code",
   "execution_count": 312,
   "id": "aea8842f",
   "metadata": {},
   "outputs": [
    {
     "data": {
      "text/plain": [
       "SVR(C=0.1, gamma=0.1, kernel='poly')"
      ]
     },
     "execution_count": 312,
     "metadata": {},
     "output_type": "execute_result"
    }
   ],
   "source": [
    "svr.fit(X_train, y_train)"
   ]
  },
  {
   "cell_type": "code",
   "execution_count": 313,
   "id": "101e21cc",
   "metadata": {},
   "outputs": [],
   "source": [
    "y_pred = svr.predict(X_test)"
   ]
  },
  {
   "cell_type": "code",
   "execution_count": 314,
   "id": "6f0b1fcb",
   "metadata": {},
   "outputs": [
    {
     "name": "stdout",
     "output_type": "stream",
     "text": [
      "Mean Squared Error: 413728616.07087857\n",
      "Root Mean Squared Error: 20340.3199598944\n",
      "R-squared: -44362.46393986655\n"
     ]
    }
   ],
   "source": [
    "mse = mean_squared_error(y_test, y_pred)\n",
    "rmse = np.sqrt(mse)\n",
    "r2 = r2_score(y_test, y_pred)\n",
    "\n",
    "print(\"Mean Squared Error:\", mse)\n",
    "print(\"Root Mean Squared Error:\", rmse)\n",
    "print(\"R-squared:\", r2)"
   ]
  },
  {
   "cell_type": "markdown",
   "id": "ca4e600b",
   "metadata": {},
   "source": [
    "## Sigmoid"
   ]
  },
  {
   "cell_type": "code",
   "execution_count": 315,
   "id": "b7f2ac02",
   "metadata": {},
   "outputs": [],
   "source": [
    "svr = SVR(kernel='sigmoid', C=0.1, gamma=0.1)"
   ]
  },
  {
   "cell_type": "code",
   "execution_count": 316,
   "id": "1f3bdb3b",
   "metadata": {},
   "outputs": [
    {
     "data": {
      "text/plain": [
       "SVR(C=0.1, gamma=0.1, kernel='sigmoid')"
      ]
     },
     "execution_count": 316,
     "metadata": {},
     "output_type": "execute_result"
    }
   ],
   "source": [
    "svr.fit(X_train, y_train)"
   ]
  },
  {
   "cell_type": "code",
   "execution_count": 317,
   "id": "daa7120e",
   "metadata": {},
   "outputs": [],
   "source": [
    "y_pred = svr.predict(X_test)"
   ]
  },
  {
   "cell_type": "code",
   "execution_count": 318,
   "id": "23db0a02",
   "metadata": {},
   "outputs": [
    {
     "name": "stdout",
     "output_type": "stream",
     "text": [
      "Mean Squared Error: 10992.334070999796\n",
      "Root Mean Squared Error: 104.8443325649975\n",
      "R-squared: -0.1786905648562198\n"
     ]
    }
   ],
   "source": [
    "mse = mean_squared_error(y_test, y_pred)\n",
    "rmse = np.sqrt(mse)\n",
    "r2 = r2_score(y_test, y_pred)\n",
    "\n",
    "print(\"Mean Squared Error:\", mse)\n",
    "print(\"Root Mean Squared Error:\", rmse)\n",
    "print(\"R-squared:\", r2)"
   ]
  },
  {
   "cell_type": "markdown",
   "id": "be057be1",
   "metadata": {},
   "source": [
    "## Kesimpulan\n",
    "Setelah melakukan analisis, dapat disimpulkan bahwa model SVR terbaik menggunakan fungsi kernel RBF dengan parameter C = 10, gamma = 0,001, dan epsilon = 0,001. Model ini memiliki tingkat akurasi yang cukup tinggi, yaitu 99,94% untuk data training dan 99,96% untuk data testing, sehingga dapat diandalkan dalam memprediksi harga saham Tesla."
   ]
  }
 ],
 "metadata": {
  "kernelspec": {
   "display_name": "Python 3 (ipykernel)",
   "language": "python",
   "name": "python3"
  },
  "language_info": {
   "codemirror_mode": {
    "name": "ipython",
    "version": 3
   },
   "file_extension": ".py",
   "mimetype": "text/x-python",
   "name": "python",
   "nbconvert_exporter": "python",
   "pygments_lexer": "ipython3",
   "version": "3.9.13"
  }
 },
 "nbformat": 4,
 "nbformat_minor": 5
}
